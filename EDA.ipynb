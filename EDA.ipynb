{
 "cells": [
  {
   "cell_type": "code",
   "execution_count": 68,
   "id": "prescription-printer",
   "metadata": {
    "_cell_guid": "b1076dfc-b9ad-4769-8c92-a6c4dae69d19",
    "_uuid": "8f2839f25d086af736a60e9eeb907d3b93b6e0e5",
    "execution": {
     "iopub.execute_input": "2021-04-06T18:27:11.636958Z",
     "iopub.status.busy": "2021-04-06T18:27:11.635873Z",
     "iopub.status.idle": "2021-04-06T18:27:11.658626Z",
     "shell.execute_reply": "2021-04-06T18:27:11.659724Z"
    },
    "papermill": {
     "duration": 0.073488,
     "end_time": "2021-04-06T18:27:11.660299",
     "exception": false,
     "start_time": "2021-04-06T18:27:11.586811",
     "status": "completed"
    },
    "tags": []
   },
   "outputs": [],
   "source": [
    "import numpy as np\n",
    "import pandas as pd "
   ]
  },
  {
   "cell_type": "markdown",
   "id": "chronic-economy",
   "metadata": {
    "papermill": {
     "duration": 0.044521,
     "end_time": "2021-04-06T18:27:11.844790",
     "exception": false,
     "start_time": "2021-04-06T18:27:11.800269",
     "status": "completed"
    },
    "tags": []
   },
   "source": [
    "# Starbucks \n",
    "* Starbucks Corporation is an American multinational chain of coffeehouses and roastery reserves headquartered in Seattle, Washington. It is the world's largest coffeehouse chain.As of November 2021, the company had 33,833 stores in 80 countries, 15,444 of which were located in the United States. Out of Starbucks' U.S.-based stores, over 8,900 are company-operated, while the remainder are licensed.\n",
    "Source: Wikipedia"
   ]
  },
  {
   "cell_type": "markdown",
   "id": "varying-cleanup",
   "metadata": {
    "papermill": {
     "duration": 0.045849,
     "end_time": "2021-04-06T18:27:12.024265",
     "exception": false,
     "start_time": "2021-04-06T18:27:11.978416",
     "status": "completed"
    },
    "tags": []
   },
   "source": [
    "# Starbucks Data Dictionary\n",
    "    - This data was provided by Starbucks to simulate their customers and transactions to see if there are better approaches to sending customers specific promotional deals.\n",
    "    1. Portfolio CSV: Information about the promotional offers that are possible to receive, and basic information about each one including the promotional type, duration of the promotion, reward, and how the promotion was distributed to customers\n",
    "        -ID: Offer ID\n",
    "        -reward: Reward given for completing an offer\n",
    "        -channels:Channel through which offer was given\n",
    "        -difficulty: Rated Effort required to complete an offer\n",
    "        -duration: Duration for which offer was available\n",
    "        -offer_type: Type of offer provided\n",
    "\n",
    "    2. Profile CSV:  Dimensional data about each person, including their age, salary, and gender. There is one unique customer for each record\n",
    "        -gender: Gender of the customer\n",
    "        -age: Age of customer\n",
    "        -id: Customer id\n",
    "        -became_member_on: Date when customer created an app account\n",
    "        -income: Customer's income\n",
    "\n",
    "    \n",
    "    3. Transcript Data: Records show the different steps of promotional offers that a customer received. The different values of receiving a promotion are receiving, viewing, and completing. You also see the different transactions that a person made in the time since he became a customer. With all records, you see the day that they interacted with Starbucks and the amount that it is worth.\n",
    "        -person: Contains customer ID\n",
    "        -event: record description (ie transaction, offer received, offer viewed, etc.)\n",
    "        -value: either an offer id or transaction amount depending on the record\n",
    "        -Time: Time in hours. The data begins at time t=0\n",
    "        \n",
    "    4. For each of the csv file we tried to perform EDA."
   ]
  },
  {
   "cell_type": "markdown",
   "id": "3a5856a7",
   "metadata": {},
   "source": [
    "# Reading csv"
   ]
  },
  {
   "cell_type": "code",
   "execution_count": 69,
   "id": "vocal-earthquake",
   "metadata": {
    "execution": {
     "iopub.execute_input": "2021-04-06T18:27:12.120298Z",
     "iopub.status.busy": "2021-04-06T18:27:12.119652Z",
     "iopub.status.idle": "2021-04-06T18:27:13.099183Z",
     "shell.execute_reply": "2021-04-06T18:27:13.097278Z"
    },
    "papermill": {
     "duration": 1.028919,
     "end_time": "2021-04-06T18:27:13.099356",
     "exception": false,
     "start_time": "2021-04-06T18:27:12.070437",
     "status": "completed"
    },
    "tags": []
   },
   "outputs": [],
   "source": [
    "pf = pd.read_csv('portfolio.csv')\n",
    "ts = pd.read_csv('transcript.csv')\n",
    "profile = pd.read_csv('profile.csv')\n"
   ]
  },
  {
   "cell_type": "code",
   "execution_count": 70,
   "id": "measured-recall",
   "metadata": {
    "execution": {
     "iopub.execute_input": "2021-04-06T18:27:13.195652Z",
     "iopub.status.busy": "2021-04-06T18:27:13.194669Z",
     "iopub.status.idle": "2021-04-06T18:27:13.197669Z",
     "shell.execute_reply": "2021-04-06T18:27:13.198106Z"
    },
    "papermill": {
     "duration": 0.054388,
     "end_time": "2021-04-06T18:27:13.198308",
     "exception": false,
     "start_time": "2021-04-06T18:27:13.143920",
     "status": "completed"
    },
    "tags": []
   },
   "outputs": [
    {
     "name": "stdout",
     "output_type": "stream",
     "text": [
      "Transcript data: Rows: 306534,  Columns: 5\n",
      "Profile data: Rows: 17000,      Columns: 6 \n",
      "Portfolio data: Rows: 10 ,      Columns: 7 \n"
     ]
    }
   ],
   "source": [
    "print(f'Transcript data: Rows: {ts.shape[0]},  Columns: {ts.shape[1]}')\n",
    "print(f'Profile data: Rows: {profile.shape[0]},      Columns: {profile.shape[1]} ')\n",
    "print(f'Portfolio data: Rows: {pf.shape[0]} ,      Columns: {pf.shape[1]} ')"
   ]
  },
  {
   "cell_type": "markdown",
   "id": "temporal-perfume",
   "metadata": {
    "papermill": {
     "duration": 0.046126,
     "end_time": "2021-04-06T18:27:13.289422",
     "exception": false,
     "start_time": "2021-04-06T18:27:13.243296",
     "status": "completed"
    },
    "tags": []
   },
   "source": [
    "# Transcript data "
   ]
  },
  {
   "cell_type": "code",
   "execution_count": 71,
   "id": "surprising-toronto",
   "metadata": {
    "execution": {
     "iopub.execute_input": "2021-04-06T18:27:13.400573Z",
     "iopub.status.busy": "2021-04-06T18:27:13.399513Z",
     "iopub.status.idle": "2021-04-06T18:27:13.422979Z",
     "shell.execute_reply": "2021-04-06T18:27:13.422517Z"
    },
    "papermill": {
     "duration": 0.08647,
     "end_time": "2021-04-06T18:27:13.423139",
     "exception": false,
     "start_time": "2021-04-06T18:27:13.336669",
     "status": "completed"
    },
    "tags": []
   },
   "outputs": [
    {
     "data": {
      "text/html": [
       "<div>\n",
       "<style scoped>\n",
       "    .dataframe tbody tr th:only-of-type {\n",
       "        vertical-align: middle;\n",
       "    }\n",
       "\n",
       "    .dataframe tbody tr th {\n",
       "        vertical-align: top;\n",
       "    }\n",
       "\n",
       "    .dataframe thead th {\n",
       "        text-align: right;\n",
       "    }\n",
       "</style>\n",
       "<table border=\"1\" class=\"dataframe\">\n",
       "  <thead>\n",
       "    <tr style=\"text-align: right;\">\n",
       "      <th></th>\n",
       "      <th>Unnamed: 0</th>\n",
       "      <th>person</th>\n",
       "      <th>event</th>\n",
       "      <th>value</th>\n",
       "      <th>time</th>\n",
       "    </tr>\n",
       "  </thead>\n",
       "  <tbody>\n",
       "    <tr>\n",
       "      <th>0</th>\n",
       "      <td>0</td>\n",
       "      <td>78afa995795e4d85b5d9ceeca43f5fef</td>\n",
       "      <td>offer received</td>\n",
       "      <td>{'offer id': '9b98b8c7a33c4b65b9aebfe6a799e6d9'}</td>\n",
       "      <td>0</td>\n",
       "    </tr>\n",
       "    <tr>\n",
       "      <th>1</th>\n",
       "      <td>1</td>\n",
       "      <td>a03223e636434f42ac4c3df47e8bac43</td>\n",
       "      <td>offer received</td>\n",
       "      <td>{'offer id': '0b1e1539f2cc45b7b9fa7c272da2e1d7'}</td>\n",
       "      <td>0</td>\n",
       "    </tr>\n",
       "    <tr>\n",
       "      <th>2</th>\n",
       "      <td>2</td>\n",
       "      <td>e2127556f4f64592b11af22de27a7932</td>\n",
       "      <td>offer received</td>\n",
       "      <td>{'offer id': '2906b810c7d4411798c6938adc9daaa5'}</td>\n",
       "      <td>0</td>\n",
       "    </tr>\n",
       "    <tr>\n",
       "      <th>3</th>\n",
       "      <td>3</td>\n",
       "      <td>8ec6ce2a7e7949b1bf142def7d0e0586</td>\n",
       "      <td>offer received</td>\n",
       "      <td>{'offer id': 'fafdcd668e3743c1bb461111dcafc2a4'}</td>\n",
       "      <td>0</td>\n",
       "    </tr>\n",
       "    <tr>\n",
       "      <th>4</th>\n",
       "      <td>4</td>\n",
       "      <td>68617ca6246f4fbc85e91a2a49552598</td>\n",
       "      <td>offer received</td>\n",
       "      <td>{'offer id': '4d5c57ea9a6940dd891ad53e9dbe8da0'}</td>\n",
       "      <td>0</td>\n",
       "    </tr>\n",
       "  </tbody>\n",
       "</table>\n",
       "</div>"
      ],
      "text/plain": [
       "   Unnamed: 0                            person           event  \\\n",
       "0           0  78afa995795e4d85b5d9ceeca43f5fef  offer received   \n",
       "1           1  a03223e636434f42ac4c3df47e8bac43  offer received   \n",
       "2           2  e2127556f4f64592b11af22de27a7932  offer received   \n",
       "3           3  8ec6ce2a7e7949b1bf142def7d0e0586  offer received   \n",
       "4           4  68617ca6246f4fbc85e91a2a49552598  offer received   \n",
       "\n",
       "                                              value  time  \n",
       "0  {'offer id': '9b98b8c7a33c4b65b9aebfe6a799e6d9'}     0  \n",
       "1  {'offer id': '0b1e1539f2cc45b7b9fa7c272da2e1d7'}     0  \n",
       "2  {'offer id': '2906b810c7d4411798c6938adc9daaa5'}     0  \n",
       "3  {'offer id': 'fafdcd668e3743c1bb461111dcafc2a4'}     0  \n",
       "4  {'offer id': '4d5c57ea9a6940dd891ad53e9dbe8da0'}     0  "
      ]
     },
     "execution_count": 71,
     "metadata": {},
     "output_type": "execute_result"
    }
   ],
   "source": [
    "ts.head()"
   ]
  },
  {
   "cell_type": "code",
   "execution_count": 72,
   "id": "irish-highland",
   "metadata": {
    "execution": {
     "iopub.execute_input": "2021-04-06T18:27:13.564760Z",
     "iopub.status.busy": "2021-04-06T18:27:13.563790Z",
     "iopub.status.idle": "2021-04-06T18:27:13.584743Z",
     "shell.execute_reply": "2021-04-06T18:27:13.584204Z"
    },
    "papermill": {
     "duration": 0.112498,
     "end_time": "2021-04-06T18:27:13.584892",
     "exception": false,
     "start_time": "2021-04-06T18:27:13.472394",
     "status": "completed"
    },
    "tags": []
   },
   "outputs": [
    {
     "name": "stdout",
     "output_type": "stream",
     "text": [
      "<class 'pandas.core.frame.DataFrame'>\n",
      "RangeIndex: 306534 entries, 0 to 306533\n",
      "Data columns (total 5 columns):\n",
      " #   Column      Non-Null Count   Dtype \n",
      "---  ------      --------------   ----- \n",
      " 0   Unnamed: 0  306534 non-null  int64 \n",
      " 1   person      306534 non-null  object\n",
      " 2   event       306534 non-null  object\n",
      " 3   value       306534 non-null  object\n",
      " 4   time        306534 non-null  int64 \n",
      "dtypes: int64(2), object(3)\n",
      "memory usage: 11.7+ MB\n"
     ]
    }
   ],
   "source": [
    "ts.info()"
   ]
  },
  {
   "cell_type": "markdown",
   "id": "gentle-partner",
   "metadata": {
    "papermill": {
     "duration": 0.048196,
     "end_time": "2021-04-06T18:27:13.685289",
     "exception": false,
     "start_time": "2021-04-06T18:27:13.637093",
     "status": "completed"
    },
    "tags": []
   },
   "source": [
    "# Profile data"
   ]
  },
  {
   "cell_type": "code",
   "execution_count": 73,
   "id": "ready-chase",
   "metadata": {
    "execution": {
     "iopub.execute_input": "2021-04-06T18:27:13.794768Z",
     "iopub.status.busy": "2021-04-06T18:27:13.793926Z",
     "iopub.status.idle": "2021-04-06T18:27:13.798914Z",
     "shell.execute_reply": "2021-04-06T18:27:13.798104Z"
    },
    "papermill": {
     "duration": 0.065663,
     "end_time": "2021-04-06T18:27:13.799079",
     "exception": false,
     "start_time": "2021-04-06T18:27:13.733416",
     "status": "completed"
    },
    "tags": []
   },
   "outputs": [
    {
     "data": {
      "text/html": [
       "<div>\n",
       "<style scoped>\n",
       "    .dataframe tbody tr th:only-of-type {\n",
       "        vertical-align: middle;\n",
       "    }\n",
       "\n",
       "    .dataframe tbody tr th {\n",
       "        vertical-align: top;\n",
       "    }\n",
       "\n",
       "    .dataframe thead th {\n",
       "        text-align: right;\n",
       "    }\n",
       "</style>\n",
       "<table border=\"1\" class=\"dataframe\">\n",
       "  <thead>\n",
       "    <tr style=\"text-align: right;\">\n",
       "      <th></th>\n",
       "      <th>Unnamed: 0</th>\n",
       "      <th>gender</th>\n",
       "      <th>age</th>\n",
       "      <th>id</th>\n",
       "      <th>became_member_on</th>\n",
       "      <th>income</th>\n",
       "    </tr>\n",
       "  </thead>\n",
       "  <tbody>\n",
       "    <tr>\n",
       "      <th>0</th>\n",
       "      <td>0</td>\n",
       "      <td>NaN</td>\n",
       "      <td>118</td>\n",
       "      <td>68be06ca386d4c31939f3a4f0e3dd783</td>\n",
       "      <td>20170212</td>\n",
       "      <td>NaN</td>\n",
       "    </tr>\n",
       "    <tr>\n",
       "      <th>1</th>\n",
       "      <td>1</td>\n",
       "      <td>F</td>\n",
       "      <td>55</td>\n",
       "      <td>0610b486422d4921ae7d2bf64640c50b</td>\n",
       "      <td>20170715</td>\n",
       "      <td>112000.0</td>\n",
       "    </tr>\n",
       "    <tr>\n",
       "      <th>2</th>\n",
       "      <td>2</td>\n",
       "      <td>NaN</td>\n",
       "      <td>118</td>\n",
       "      <td>38fe809add3b4fcf9315a9694bb96ff5</td>\n",
       "      <td>20180712</td>\n",
       "      <td>NaN</td>\n",
       "    </tr>\n",
       "    <tr>\n",
       "      <th>3</th>\n",
       "      <td>3</td>\n",
       "      <td>F</td>\n",
       "      <td>75</td>\n",
       "      <td>78afa995795e4d85b5d9ceeca43f5fef</td>\n",
       "      <td>20170509</td>\n",
       "      <td>100000.0</td>\n",
       "    </tr>\n",
       "    <tr>\n",
       "      <th>4</th>\n",
       "      <td>4</td>\n",
       "      <td>NaN</td>\n",
       "      <td>118</td>\n",
       "      <td>a03223e636434f42ac4c3df47e8bac43</td>\n",
       "      <td>20170804</td>\n",
       "      <td>NaN</td>\n",
       "    </tr>\n",
       "  </tbody>\n",
       "</table>\n",
       "</div>"
      ],
      "text/plain": [
       "   Unnamed: 0 gender  age                                id  became_member_on  \\\n",
       "0           0    NaN  118  68be06ca386d4c31939f3a4f0e3dd783          20170212   \n",
       "1           1      F   55  0610b486422d4921ae7d2bf64640c50b          20170715   \n",
       "2           2    NaN  118  38fe809add3b4fcf9315a9694bb96ff5          20180712   \n",
       "3           3      F   75  78afa995795e4d85b5d9ceeca43f5fef          20170509   \n",
       "4           4    NaN  118  a03223e636434f42ac4c3df47e8bac43          20170804   \n",
       "\n",
       "     income  \n",
       "0       NaN  \n",
       "1  112000.0  \n",
       "2       NaN  \n",
       "3  100000.0  \n",
       "4       NaN  "
      ]
     },
     "execution_count": 73,
     "metadata": {},
     "output_type": "execute_result"
    }
   ],
   "source": [
    "profile.head()"
   ]
  },
  {
   "cell_type": "code",
   "execution_count": 74,
   "id": "reflected-scroll",
   "metadata": {
    "execution": {
     "iopub.execute_input": "2021-04-06T18:27:13.915603Z",
     "iopub.status.busy": "2021-04-06T18:27:13.906936Z",
     "iopub.status.idle": "2021-04-06T18:27:13.920729Z",
     "shell.execute_reply": "2021-04-06T18:27:13.921231Z"
    },
    "papermill": {
     "duration": 0.073349,
     "end_time": "2021-04-06T18:27:13.921437",
     "exception": false,
     "start_time": "2021-04-06T18:27:13.848088",
     "status": "completed"
    },
    "tags": []
   },
   "outputs": [
    {
     "name": "stdout",
     "output_type": "stream",
     "text": [
      "<class 'pandas.core.frame.DataFrame'>\n",
      "RangeIndex: 17000 entries, 0 to 16999\n",
      "Data columns (total 6 columns):\n",
      " #   Column            Non-Null Count  Dtype  \n",
      "---  ------            --------------  -----  \n",
      " 0   Unnamed: 0        17000 non-null  int64  \n",
      " 1   gender            14825 non-null  object \n",
      " 2   age               17000 non-null  int64  \n",
      " 3   id                17000 non-null  object \n",
      " 4   became_member_on  17000 non-null  int64  \n",
      " 5   income            14825 non-null  float64\n",
      "dtypes: float64(1), int64(3), object(2)\n",
      "memory usage: 797.0+ KB\n"
     ]
    }
   ],
   "source": [
    "profile.info()"
   ]
  },
  {
   "cell_type": "markdown",
   "id": "fa954605",
   "metadata": {},
   "source": [
    "# Portfolio Data"
   ]
  },
  {
   "cell_type": "code",
   "execution_count": 75,
   "id": "infectious-letters",
   "metadata": {
    "execution": {
     "iopub.execute_input": "2021-04-06T18:27:14.030188Z",
     "iopub.status.busy": "2021-04-06T18:27:14.029482Z",
     "iopub.status.idle": "2021-04-06T18:27:14.034694Z",
     "shell.execute_reply": "2021-04-06T18:27:14.035118Z"
    },
    "papermill": {
     "duration": 0.066758,
     "end_time": "2021-04-06T18:27:14.035340",
     "exception": false,
     "start_time": "2021-04-06T18:27:13.968582",
     "status": "completed"
    },
    "tags": []
   },
   "outputs": [
    {
     "data": {
      "text/html": [
       "<div>\n",
       "<style scoped>\n",
       "    .dataframe tbody tr th:only-of-type {\n",
       "        vertical-align: middle;\n",
       "    }\n",
       "\n",
       "    .dataframe tbody tr th {\n",
       "        vertical-align: top;\n",
       "    }\n",
       "\n",
       "    .dataframe thead th {\n",
       "        text-align: right;\n",
       "    }\n",
       "</style>\n",
       "<table border=\"1\" class=\"dataframe\">\n",
       "  <thead>\n",
       "    <tr style=\"text-align: right;\">\n",
       "      <th></th>\n",
       "      <th>Unnamed: 0</th>\n",
       "      <th>reward</th>\n",
       "      <th>channels</th>\n",
       "      <th>difficulty</th>\n",
       "      <th>duration</th>\n",
       "      <th>offer_type</th>\n",
       "      <th>id</th>\n",
       "    </tr>\n",
       "  </thead>\n",
       "  <tbody>\n",
       "    <tr>\n",
       "      <th>0</th>\n",
       "      <td>0</td>\n",
       "      <td>10</td>\n",
       "      <td>['email', 'mobile', 'social']</td>\n",
       "      <td>10</td>\n",
       "      <td>7</td>\n",
       "      <td>bogo</td>\n",
       "      <td>ae264e3637204a6fb9bb56bc8210ddfd</td>\n",
       "    </tr>\n",
       "    <tr>\n",
       "      <th>1</th>\n",
       "      <td>1</td>\n",
       "      <td>10</td>\n",
       "      <td>['web', 'email', 'mobile', 'social']</td>\n",
       "      <td>10</td>\n",
       "      <td>5</td>\n",
       "      <td>bogo</td>\n",
       "      <td>4d5c57ea9a6940dd891ad53e9dbe8da0</td>\n",
       "    </tr>\n",
       "    <tr>\n",
       "      <th>2</th>\n",
       "      <td>2</td>\n",
       "      <td>0</td>\n",
       "      <td>['web', 'email', 'mobile']</td>\n",
       "      <td>0</td>\n",
       "      <td>4</td>\n",
       "      <td>informational</td>\n",
       "      <td>3f207df678b143eea3cee63160fa8bed</td>\n",
       "    </tr>\n",
       "    <tr>\n",
       "      <th>3</th>\n",
       "      <td>3</td>\n",
       "      <td>5</td>\n",
       "      <td>['web', 'email', 'mobile']</td>\n",
       "      <td>5</td>\n",
       "      <td>7</td>\n",
       "      <td>bogo</td>\n",
       "      <td>9b98b8c7a33c4b65b9aebfe6a799e6d9</td>\n",
       "    </tr>\n",
       "    <tr>\n",
       "      <th>4</th>\n",
       "      <td>4</td>\n",
       "      <td>5</td>\n",
       "      <td>['web', 'email']</td>\n",
       "      <td>20</td>\n",
       "      <td>10</td>\n",
       "      <td>discount</td>\n",
       "      <td>0b1e1539f2cc45b7b9fa7c272da2e1d7</td>\n",
       "    </tr>\n",
       "  </tbody>\n",
       "</table>\n",
       "</div>"
      ],
      "text/plain": [
       "   Unnamed: 0  reward                              channels  difficulty  \\\n",
       "0           0      10         ['email', 'mobile', 'social']          10   \n",
       "1           1      10  ['web', 'email', 'mobile', 'social']          10   \n",
       "2           2       0            ['web', 'email', 'mobile']           0   \n",
       "3           3       5            ['web', 'email', 'mobile']           5   \n",
       "4           4       5                      ['web', 'email']          20   \n",
       "\n",
       "   duration     offer_type                                id  \n",
       "0         7           bogo  ae264e3637204a6fb9bb56bc8210ddfd  \n",
       "1         5           bogo  4d5c57ea9a6940dd891ad53e9dbe8da0  \n",
       "2         4  informational  3f207df678b143eea3cee63160fa8bed  \n",
       "3         7           bogo  9b98b8c7a33c4b65b9aebfe6a799e6d9  \n",
       "4        10       discount  0b1e1539f2cc45b7b9fa7c272da2e1d7  "
      ]
     },
     "execution_count": 75,
     "metadata": {},
     "output_type": "execute_result"
    }
   ],
   "source": [
    "pf.head()"
   ]
  },
  {
   "cell_type": "code",
   "execution_count": 76,
   "id": "broad-conservative",
   "metadata": {
    "execution": {
     "iopub.execute_input": "2021-04-06T18:27:14.152189Z",
     "iopub.status.busy": "2021-04-06T18:27:14.151289Z",
     "iopub.status.idle": "2021-04-06T18:27:14.158559Z",
     "shell.execute_reply": "2021-04-06T18:27:14.156891Z"
    },
    "papermill": {
     "duration": 0.073821,
     "end_time": "2021-04-06T18:27:14.158822",
     "exception": false,
     "start_time": "2021-04-06T18:27:14.085001",
     "status": "completed"
    },
    "tags": []
   },
   "outputs": [
    {
     "name": "stdout",
     "output_type": "stream",
     "text": [
      "<class 'pandas.core.frame.DataFrame'>\n",
      "RangeIndex: 10 entries, 0 to 9\n",
      "Data columns (total 7 columns):\n",
      " #   Column      Non-Null Count  Dtype \n",
      "---  ------      --------------  ----- \n",
      " 0   Unnamed: 0  10 non-null     int64 \n",
      " 1   reward      10 non-null     int64 \n",
      " 2   channels    10 non-null     object\n",
      " 3   difficulty  10 non-null     int64 \n",
      " 4   duration    10 non-null     int64 \n",
      " 5   offer_type  10 non-null     object\n",
      " 6   id          10 non-null     object\n",
      "dtypes: int64(4), object(3)\n",
      "memory usage: 688.0+ bytes\n"
     ]
    }
   ],
   "source": [
    "pf.info()"
   ]
  },
  {
   "cell_type": "code",
   "execution_count": 77,
   "id": "dangerous-prophet",
   "metadata": {
    "execution": {
     "iopub.execute_input": "2021-04-06T18:27:14.263516Z",
     "iopub.status.busy": "2021-04-06T18:27:14.262704Z",
     "iopub.status.idle": "2021-04-06T18:27:14.267974Z",
     "shell.execute_reply": "2021-04-06T18:27:14.267487Z"
    },
    "papermill": {
     "duration": 0.058836,
     "end_time": "2021-04-06T18:27:14.268113",
     "exception": false,
     "start_time": "2021-04-06T18:27:14.209277",
     "status": "completed"
    },
    "tags": []
   },
   "outputs": [
    {
     "data": {
      "text/plain": [
       "Index(['Unnamed: 0', 'person', 'event', 'value', 'time'], dtype='object')"
      ]
     },
     "execution_count": 77,
     "metadata": {},
     "output_type": "execute_result"
    }
   ],
   "source": [
    "ts.columns"
   ]
  },
  {
   "cell_type": "code",
   "execution_count": 78,
   "id": "conditional-houston",
   "metadata": {
    "execution": {
     "iopub.execute_input": "2021-04-06T18:27:14.378007Z",
     "iopub.status.busy": "2021-04-06T18:27:14.377124Z",
     "iopub.status.idle": "2021-04-06T18:27:14.382336Z",
     "shell.execute_reply": "2021-04-06T18:27:14.381686Z"
    },
    "papermill": {
     "duration": 0.063469,
     "end_time": "2021-04-06T18:27:14.382482",
     "exception": false,
     "start_time": "2021-04-06T18:27:14.319013",
     "status": "completed"
    },
    "tags": []
   },
   "outputs": [
    {
     "data": {
      "text/plain": [
       "Index(['Unnamed: 0', 'gender', 'age', 'id', 'became_member_on', 'income'], dtype='object')"
      ]
     },
     "execution_count": 78,
     "metadata": {},
     "output_type": "execute_result"
    }
   ],
   "source": [
    "profile.columns"
   ]
  },
  {
   "cell_type": "code",
   "execution_count": 79,
   "id": "coupled-saying",
   "metadata": {
    "execution": {
     "iopub.execute_input": "2021-04-06T18:27:14.489937Z",
     "iopub.status.busy": "2021-04-06T18:27:14.489042Z",
     "iopub.status.idle": "2021-04-06T18:27:14.492974Z",
     "shell.execute_reply": "2021-04-06T18:27:14.493492Z"
    },
    "papermill": {
     "duration": 0.060267,
     "end_time": "2021-04-06T18:27:14.493691",
     "exception": false,
     "start_time": "2021-04-06T18:27:14.433424",
     "status": "completed"
    },
    "tags": []
   },
   "outputs": [
    {
     "data": {
      "text/plain": [
       "Index(['Unnamed: 0', 'reward', 'channels', 'difficulty', 'duration',\n",
       "       'offer_type', 'id'],\n",
       "      dtype='object')"
      ]
     },
     "execution_count": 79,
     "metadata": {},
     "output_type": "execute_result"
    }
   ],
   "source": [
    "pf.columns"
   ]
  },
  {
   "cell_type": "markdown",
   "id": "bulgarian-surveillance",
   "metadata": {
    "papermill": {
     "duration": 0.048351,
     "end_time": "2021-04-06T18:27:14.594686",
     "exception": false,
     "start_time": "2021-04-06T18:27:14.546335",
     "status": "completed"
    },
    "tags": []
   },
   "source": [
    "Drop the unnamed column from all dataframes"
   ]
  },
  {
   "cell_type": "code",
   "execution_count": 80,
   "id": "classified-seafood",
   "metadata": {
    "execution": {
     "iopub.execute_input": "2021-04-06T18:27:14.704149Z",
     "iopub.status.busy": "2021-04-06T18:27:14.703529Z",
     "iopub.status.idle": "2021-04-06T18:27:14.720489Z",
     "shell.execute_reply": "2021-04-06T18:27:14.720926Z"
    },
    "papermill": {
     "duration": 0.075467,
     "end_time": "2021-04-06T18:27:14.721114",
     "exception": false,
     "start_time": "2021-04-06T18:27:14.645647",
     "status": "completed"
    },
    "tags": []
   },
   "outputs": [],
   "source": [
    "ts.drop('Unnamed: 0', axis=1, inplace=True)\n",
    "profile.drop('Unnamed: 0', axis=1, inplace=True)\n",
    "pf.drop('Unnamed: 0', axis=1, inplace=True)"
   ]
  },
  {
   "cell_type": "markdown",
   "id": "dda3e0b5",
   "metadata": {},
   "source": [
    "# Summary statistics of numercial columns"
   ]
  },
  {
   "cell_type": "code",
   "execution_count": 81,
   "id": "5a118336",
   "metadata": {},
   "outputs": [
    {
     "data": {
      "text/html": [
       "<div>\n",
       "<style scoped>\n",
       "    .dataframe tbody tr th:only-of-type {\n",
       "        vertical-align: middle;\n",
       "    }\n",
       "\n",
       "    .dataframe tbody tr th {\n",
       "        vertical-align: top;\n",
       "    }\n",
       "\n",
       "    .dataframe thead th {\n",
       "        text-align: right;\n",
       "    }\n",
       "</style>\n",
       "<table border=\"1\" class=\"dataframe\">\n",
       "  <thead>\n",
       "    <tr style=\"text-align: right;\">\n",
       "      <th></th>\n",
       "      <th>time</th>\n",
       "    </tr>\n",
       "  </thead>\n",
       "  <tbody>\n",
       "    <tr>\n",
       "      <th>count</th>\n",
       "      <td>306534.000000</td>\n",
       "    </tr>\n",
       "    <tr>\n",
       "      <th>mean</th>\n",
       "      <td>366.382940</td>\n",
       "    </tr>\n",
       "    <tr>\n",
       "      <th>std</th>\n",
       "      <td>200.326314</td>\n",
       "    </tr>\n",
       "    <tr>\n",
       "      <th>min</th>\n",
       "      <td>0.000000</td>\n",
       "    </tr>\n",
       "    <tr>\n",
       "      <th>25%</th>\n",
       "      <td>186.000000</td>\n",
       "    </tr>\n",
       "    <tr>\n",
       "      <th>50%</th>\n",
       "      <td>408.000000</td>\n",
       "    </tr>\n",
       "    <tr>\n",
       "      <th>75%</th>\n",
       "      <td>528.000000</td>\n",
       "    </tr>\n",
       "    <tr>\n",
       "      <th>max</th>\n",
       "      <td>714.000000</td>\n",
       "    </tr>\n",
       "  </tbody>\n",
       "</table>\n",
       "</div>"
      ],
      "text/plain": [
       "                time\n",
       "count  306534.000000\n",
       "mean      366.382940\n",
       "std       200.326314\n",
       "min         0.000000\n",
       "25%       186.000000\n",
       "50%       408.000000\n",
       "75%       528.000000\n",
       "max       714.000000"
      ]
     },
     "execution_count": 81,
     "metadata": {},
     "output_type": "execute_result"
    }
   ],
   "source": [
    "ts.describe()\n"
   ]
  },
  {
   "cell_type": "markdown",
   "id": "809fbe93",
   "metadata": {},
   "source": [
    "We can say that the data in ts CSV was collected for a total of 714 hours. The first 50% of the data was collected within 408 hours."
   ]
  },
  {
   "cell_type": "code",
   "execution_count": 82,
   "id": "39a0e676",
   "metadata": {},
   "outputs": [
    {
     "data": {
      "text/html": [
       "<div>\n",
       "<style scoped>\n",
       "    .dataframe tbody tr th:only-of-type {\n",
       "        vertical-align: middle;\n",
       "    }\n",
       "\n",
       "    .dataframe tbody tr th {\n",
       "        vertical-align: top;\n",
       "    }\n",
       "\n",
       "    .dataframe thead th {\n",
       "        text-align: right;\n",
       "    }\n",
       "</style>\n",
       "<table border=\"1\" class=\"dataframe\">\n",
       "  <thead>\n",
       "    <tr style=\"text-align: right;\">\n",
       "      <th></th>\n",
       "      <th>age</th>\n",
       "      <th>became_member_on</th>\n",
       "      <th>income</th>\n",
       "    </tr>\n",
       "  </thead>\n",
       "  <tbody>\n",
       "    <tr>\n",
       "      <th>count</th>\n",
       "      <td>17000.000000</td>\n",
       "      <td>1.700000e+04</td>\n",
       "      <td>14825.000000</td>\n",
       "    </tr>\n",
       "    <tr>\n",
       "      <th>mean</th>\n",
       "      <td>62.531412</td>\n",
       "      <td>2.016703e+07</td>\n",
       "      <td>65404.991568</td>\n",
       "    </tr>\n",
       "    <tr>\n",
       "      <th>std</th>\n",
       "      <td>26.738580</td>\n",
       "      <td>1.167750e+04</td>\n",
       "      <td>21598.299410</td>\n",
       "    </tr>\n",
       "    <tr>\n",
       "      <th>min</th>\n",
       "      <td>18.000000</td>\n",
       "      <td>2.013073e+07</td>\n",
       "      <td>30000.000000</td>\n",
       "    </tr>\n",
       "    <tr>\n",
       "      <th>25%</th>\n",
       "      <td>45.000000</td>\n",
       "      <td>2.016053e+07</td>\n",
       "      <td>49000.000000</td>\n",
       "    </tr>\n",
       "    <tr>\n",
       "      <th>50%</th>\n",
       "      <td>58.000000</td>\n",
       "      <td>2.017080e+07</td>\n",
       "      <td>64000.000000</td>\n",
       "    </tr>\n",
       "    <tr>\n",
       "      <th>75%</th>\n",
       "      <td>73.000000</td>\n",
       "      <td>2.017123e+07</td>\n",
       "      <td>80000.000000</td>\n",
       "    </tr>\n",
       "    <tr>\n",
       "      <th>max</th>\n",
       "      <td>118.000000</td>\n",
       "      <td>2.018073e+07</td>\n",
       "      <td>120000.000000</td>\n",
       "    </tr>\n",
       "  </tbody>\n",
       "</table>\n",
       "</div>"
      ],
      "text/plain": [
       "                age  became_member_on         income\n",
       "count  17000.000000      1.700000e+04   14825.000000\n",
       "mean      62.531412      2.016703e+07   65404.991568\n",
       "std       26.738580      1.167750e+04   21598.299410\n",
       "min       18.000000      2.013073e+07   30000.000000\n",
       "25%       45.000000      2.016053e+07   49000.000000\n",
       "50%       58.000000      2.017080e+07   64000.000000\n",
       "75%       73.000000      2.017123e+07   80000.000000\n",
       "max      118.000000      2.018073e+07  120000.000000"
      ]
     },
     "execution_count": 82,
     "metadata": {},
     "output_type": "execute_result"
    }
   ],
   "source": [
    "profile.describe()"
   ]
  },
  {
   "cell_type": "markdown",
   "id": "004977e8",
   "metadata": {},
   "source": [
    "The members of starbucks have an average age of 62 years and median age of 58 with an average income of 65.4k."
   ]
  },
  {
   "cell_type": "code",
   "execution_count": 83,
   "id": "c0adf585",
   "metadata": {},
   "outputs": [
    {
     "data": {
      "text/html": [
       "<div>\n",
       "<style scoped>\n",
       "    .dataframe tbody tr th:only-of-type {\n",
       "        vertical-align: middle;\n",
       "    }\n",
       "\n",
       "    .dataframe tbody tr th {\n",
       "        vertical-align: top;\n",
       "    }\n",
       "\n",
       "    .dataframe thead th {\n",
       "        text-align: right;\n",
       "    }\n",
       "</style>\n",
       "<table border=\"1\" class=\"dataframe\">\n",
       "  <thead>\n",
       "    <tr style=\"text-align: right;\">\n",
       "      <th></th>\n",
       "      <th>reward</th>\n",
       "      <th>difficulty</th>\n",
       "      <th>duration</th>\n",
       "    </tr>\n",
       "  </thead>\n",
       "  <tbody>\n",
       "    <tr>\n",
       "      <th>count</th>\n",
       "      <td>10.000000</td>\n",
       "      <td>10.000000</td>\n",
       "      <td>10.000000</td>\n",
       "    </tr>\n",
       "    <tr>\n",
       "      <th>mean</th>\n",
       "      <td>4.200000</td>\n",
       "      <td>7.700000</td>\n",
       "      <td>6.500000</td>\n",
       "    </tr>\n",
       "    <tr>\n",
       "      <th>std</th>\n",
       "      <td>3.583915</td>\n",
       "      <td>5.831905</td>\n",
       "      <td>2.321398</td>\n",
       "    </tr>\n",
       "    <tr>\n",
       "      <th>min</th>\n",
       "      <td>0.000000</td>\n",
       "      <td>0.000000</td>\n",
       "      <td>3.000000</td>\n",
       "    </tr>\n",
       "    <tr>\n",
       "      <th>25%</th>\n",
       "      <td>2.000000</td>\n",
       "      <td>5.000000</td>\n",
       "      <td>5.000000</td>\n",
       "    </tr>\n",
       "    <tr>\n",
       "      <th>50%</th>\n",
       "      <td>4.000000</td>\n",
       "      <td>8.500000</td>\n",
       "      <td>7.000000</td>\n",
       "    </tr>\n",
       "    <tr>\n",
       "      <th>75%</th>\n",
       "      <td>5.000000</td>\n",
       "      <td>10.000000</td>\n",
       "      <td>7.000000</td>\n",
       "    </tr>\n",
       "    <tr>\n",
       "      <th>max</th>\n",
       "      <td>10.000000</td>\n",
       "      <td>20.000000</td>\n",
       "      <td>10.000000</td>\n",
       "    </tr>\n",
       "  </tbody>\n",
       "</table>\n",
       "</div>"
      ],
      "text/plain": [
       "          reward  difficulty   duration\n",
       "count  10.000000   10.000000  10.000000\n",
       "mean    4.200000    7.700000   6.500000\n",
       "std     3.583915    5.831905   2.321398\n",
       "min     0.000000    0.000000   3.000000\n",
       "25%     2.000000    5.000000   5.000000\n",
       "50%     4.000000    8.500000   7.000000\n",
       "75%     5.000000   10.000000   7.000000\n",
       "max    10.000000   20.000000  10.000000"
      ]
     },
     "execution_count": 83,
     "metadata": {},
     "output_type": "execute_result"
    }
   ],
   "source": [
    "pf.describe()"
   ]
  },
  {
   "cell_type": "markdown",
   "id": "funded-quantity",
   "metadata": {
    "papermill": {
     "duration": 0.051001,
     "end_time": "2021-04-06T18:27:14.941052",
     "exception": false,
     "start_time": "2021-04-06T18:27:14.890051",
     "status": "completed"
    },
    "tags": []
   },
   "source": [
    "# EDA: Profile Data"
   ]
  },
  {
   "cell_type": "code",
   "execution_count": 84,
   "id": "understanding-extent",
   "metadata": {
    "execution": {
     "iopub.execute_input": "2021-04-06T18:27:15.189931Z",
     "iopub.status.busy": "2021-04-06T18:27:15.188936Z",
     "iopub.status.idle": "2021-04-06T18:27:15.200537Z",
     "shell.execute_reply": "2021-04-06T18:27:15.200957Z"
    },
    "papermill": {
     "duration": 0.0662,
     "end_time": "2021-04-06T18:27:15.201133",
     "exception": false,
     "start_time": "2021-04-06T18:27:15.134933",
     "status": "completed"
    },
    "tags": []
   },
   "outputs": [
    {
     "data": {
      "text/html": [
       "<div>\n",
       "<style scoped>\n",
       "    .dataframe tbody tr th:only-of-type {\n",
       "        vertical-align: middle;\n",
       "    }\n",
       "\n",
       "    .dataframe tbody tr th {\n",
       "        vertical-align: top;\n",
       "    }\n",
       "\n",
       "    .dataframe thead th {\n",
       "        text-align: right;\n",
       "    }\n",
       "</style>\n",
       "<table border=\"1\" class=\"dataframe\">\n",
       "  <thead>\n",
       "    <tr style=\"text-align: right;\">\n",
       "      <th></th>\n",
       "      <th>gender</th>\n",
       "      <th>age</th>\n",
       "      <th>id</th>\n",
       "      <th>became_member_on</th>\n",
       "      <th>income</th>\n",
       "    </tr>\n",
       "  </thead>\n",
       "  <tbody>\n",
       "    <tr>\n",
       "      <th>0</th>\n",
       "      <td>NaN</td>\n",
       "      <td>118</td>\n",
       "      <td>68be06ca386d4c31939f3a4f0e3dd783</td>\n",
       "      <td>20170212</td>\n",
       "      <td>NaN</td>\n",
       "    </tr>\n",
       "    <tr>\n",
       "      <th>1</th>\n",
       "      <td>F</td>\n",
       "      <td>55</td>\n",
       "      <td>0610b486422d4921ae7d2bf64640c50b</td>\n",
       "      <td>20170715</td>\n",
       "      <td>112000.0</td>\n",
       "    </tr>\n",
       "    <tr>\n",
       "      <th>2</th>\n",
       "      <td>NaN</td>\n",
       "      <td>118</td>\n",
       "      <td>38fe809add3b4fcf9315a9694bb96ff5</td>\n",
       "      <td>20180712</td>\n",
       "      <td>NaN</td>\n",
       "    </tr>\n",
       "    <tr>\n",
       "      <th>3</th>\n",
       "      <td>F</td>\n",
       "      <td>75</td>\n",
       "      <td>78afa995795e4d85b5d9ceeca43f5fef</td>\n",
       "      <td>20170509</td>\n",
       "      <td>100000.0</td>\n",
       "    </tr>\n",
       "    <tr>\n",
       "      <th>4</th>\n",
       "      <td>NaN</td>\n",
       "      <td>118</td>\n",
       "      <td>a03223e636434f42ac4c3df47e8bac43</td>\n",
       "      <td>20170804</td>\n",
       "      <td>NaN</td>\n",
       "    </tr>\n",
       "  </tbody>\n",
       "</table>\n",
       "</div>"
      ],
      "text/plain": [
       "  gender  age                                id  became_member_on    income\n",
       "0    NaN  118  68be06ca386d4c31939f3a4f0e3dd783          20170212       NaN\n",
       "1      F   55  0610b486422d4921ae7d2bf64640c50b          20170715  112000.0\n",
       "2    NaN  118  38fe809add3b4fcf9315a9694bb96ff5          20180712       NaN\n",
       "3      F   75  78afa995795e4d85b5d9ceeca43f5fef          20170509  100000.0\n",
       "4    NaN  118  a03223e636434f42ac4c3df47e8bac43          20170804       NaN"
      ]
     },
     "execution_count": 84,
     "metadata": {},
     "output_type": "execute_result"
    }
   ],
   "source": [
    "profile.head()"
   ]
  },
  {
   "cell_type": "code",
   "execution_count": 85,
   "id": "retired-indian",
   "metadata": {
    "execution": {
     "iopub.execute_input": "2021-04-06T18:27:15.426738Z",
     "iopub.status.busy": "2021-04-06T18:27:15.425780Z",
     "iopub.status.idle": "2021-04-06T18:27:17.942597Z",
     "shell.execute_reply": "2021-04-06T18:27:17.941825Z"
    },
    "papermill": {
     "duration": 2.571335,
     "end_time": "2021-04-06T18:27:17.942753",
     "exception": false,
     "start_time": "2021-04-06T18:27:15.371418",
     "status": "completed"
    },
    "tags": []
   },
   "outputs": [],
   "source": [
    "import matplotlib.pyplot as plt\n",
    "import seaborn as sns\n",
    "import plotly as py\n",
    "import plotly.express as px\n",
    "import plotly.graph_objs as go\n",
    "from plotly.subplots import make_subplots\n",
    "from plotly.offline import init_notebook_mode, iplot, plot\n",
    "\n",
    "import warnings \n",
    "warnings.filterwarnings('ignore')\n",
    "%matplotlib inline"
   ]
  },
  {
   "cell_type": "code",
   "execution_count": 86,
   "id": "c06da30c",
   "metadata": {},
   "outputs": [
    {
     "data": {
      "text/plain": [
       "gender              2175\n",
       "age                    0\n",
       "id                     0\n",
       "became_member_on       0\n",
       "income              2175\n",
       "dtype: int64"
      ]
     },
     "execution_count": 86,
     "metadata": {},
     "output_type": "execute_result"
    }
   ],
   "source": [
    "#Missing data\n",
    "profile.isnull().sum()"
   ]
  },
  {
   "cell_type": "markdown",
   "id": "sonic-allah",
   "metadata": {
    "papermill": {
     "duration": 0.059934,
     "end_time": "2021-04-06T18:27:18.060732",
     "exception": false,
     "start_time": "2021-04-06T18:27:18.000798",
     "status": "completed"
    },
    "tags": []
   },
   "source": [
    "There are missing values in gender and income columns"
   ]
  },
  {
   "cell_type": "code",
   "execution_count": 87,
   "id": "noted-encoding",
   "metadata": {
    "execution": {
     "iopub.execute_input": "2021-04-06T18:27:18.194329Z",
     "iopub.status.busy": "2021-04-06T18:27:18.175872Z",
     "iopub.status.idle": "2021-04-06T18:27:18.340641Z",
     "shell.execute_reply": "2021-04-06T18:27:18.341098Z"
    },
    "papermill": {
     "duration": 0.224488,
     "end_time": "2021-04-06T18:27:18.341310",
     "exception": false,
     "start_time": "2021-04-06T18:27:18.116822",
     "status": "completed"
    },
    "tags": []
   },
   "outputs": [
    {
     "data": {
      "text/plain": [
       "<AxesSubplot:xlabel='age'>"
      ]
     },
     "execution_count": 87,
     "metadata": {},
     "output_type": "execute_result"
    },
    {
     "data": {
      "image/png": "[encoded data removed]",
      "text/plain": [
       "<Figure size 432x288 with 1 Axes>"
      ]
     },
     "metadata": {
      "needs_background": "light"
     },
     "output_type": "display_data"
    }
   ],
   "source": [
    "#Box plot of Age of Starbucks customers\n",
    "sns.boxplot(data=profile, x='age')"
   ]
  },
  {
   "cell_type": "markdown",
   "metadata": {},
   "source": [
    "Median Age : 58 years"
   ]
  },
  {
   "cell_type": "code",
   "execution_count": 88,
   "id": "atmospheric-peter",
   "metadata": {
    "execution": {
     "iopub.execute_input": "2021-04-06T18:27:18.461369Z",
     "iopub.status.busy": "2021-04-06T18:27:18.460671Z",
     "iopub.status.idle": "2021-04-06T18:27:18.508014Z",
     "shell.execute_reply": "2021-04-06T18:27:18.508534Z"
    },
    "papermill": {
     "duration": 0.110526,
     "end_time": "2021-04-06T18:27:18.509035",
     "exception": false,
     "start_time": "2021-04-06T18:27:18.398509",
     "status": "completed"
    },
    "tags": []
   },
   "outputs": [
    {
     "data": {
      "text/plain": [
       "118    2175\n",
       "101       5\n",
       "Name: age, dtype: int64"
      ]
     },
     "execution_count": 88,
     "metadata": {},
     "output_type": "execute_result"
    }
   ],
   "source": [
    "k=profile[(profile['age'] > 100)]\n",
    "# print(k.head(5))\n",
    "k['age'].value_counts()"
   ]
  },
  {
   "cell_type": "markdown",
   "id": "sound-heating",
   "metadata": {
    "papermill": {
     "duration": 0.056636,
     "end_time": "2021-04-06T18:27:18.624408",
     "exception": false,
     "start_time": "2021-04-06T18:27:18.567772",
     "status": "completed"
    },
    "tags": []
   },
   "source": [
    "**There are 2180 columns with age 118 and another thing we can notice is gender value is NaN and also income is NaN for these observations. We choose to drop these columns"
   ]
  },
  {
   "cell_type": "code",
   "execution_count": 89,
   "id": "bibliographic-practice",
   "metadata": {
    "execution": {
     "iopub.execute_input": "2021-04-06T18:27:18.743956Z",
     "iopub.status.busy": "2021-04-06T18:27:18.743283Z",
     "iopub.status.idle": "2021-04-06T18:27:18.757024Z",
     "shell.execute_reply": "2021-04-06T18:27:18.756503Z"
    },
    "papermill": {
     "duration": 0.075354,
     "end_time": "2021-04-06T18:27:18.757182",
     "exception": false,
     "start_time": "2021-04-06T18:27:18.681828",
     "status": "completed"
    },
    "tags": []
   },
   "outputs": [],
   "source": [
    "profile.drop(profile.index[ (profile['age'] >101)], inplace = True)"
   ]
  },
  {
   "cell_type": "code",
   "execution_count": 90,
   "id": "attended-ethernet",
   "metadata": {
    "execution": {
     "iopub.execute_input": "2021-04-06T18:27:18.880470Z",
     "iopub.status.busy": "2021-04-06T18:27:18.879519Z",
     "iopub.status.idle": "2021-04-06T18:27:18.882952Z",
     "shell.execute_reply": "2021-04-06T18:27:18.883621Z"
    },
    "papermill": {
     "duration": 0.067168,
     "end_time": "2021-04-06T18:27:18.883827",
     "exception": false,
     "start_time": "2021-04-06T18:27:18.816659",
     "status": "completed"
    },
    "tags": []
   },
   "outputs": [
    {
     "name": "stdout",
     "output_type": "stream",
     "text": [
      "                age  became_member_on         income\n",
      "count  14825.000000      1.482500e+04   14825.000000\n",
      "mean      54.393524      2.016689e+07   65404.991568\n",
      "std       17.383705      1.188565e+04   21598.299410\n",
      "min       18.000000      2.013073e+07   30000.000000\n",
      "25%       42.000000      2.016052e+07   49000.000000\n",
      "50%       55.000000      2.017080e+07   64000.000000\n",
      "75%       66.000000      2.017123e+07   80000.000000\n",
      "max      101.000000      2.018073e+07  120000.000000\n"
     ]
    },
    {
     "data": {
      "text/plain": [
       "(14825, 5)"
      ]
     },
     "execution_count": 90,
     "metadata": {},
     "output_type": "execute_result"
    }
   ],
   "source": [
    "print(profile.describe())\n",
    "profile.shape\n"
   ]
  },
  {
   "cell_type": "markdown",
   "id": "b6007bcc",
   "metadata": {},
   "source": [
    "After removal of missing data (MCAR), the new men of age comes out to be 54 years and that of income is 65.4k (unchanged). "
   ]
  },
  {
   "cell_type": "code",
   "execution_count": 91,
   "id": "south-louis",
   "metadata": {
    "execution": {
     "iopub.execute_input": "2021-04-06T18:27:19.010949Z",
     "iopub.status.busy": "2021-04-06T18:27:19.010175Z",
     "iopub.status.idle": "2021-04-06T18:27:19.021826Z",
     "shell.execute_reply": "2021-04-06T18:27:19.022640Z"
    },
    "papermill": {
     "duration": 0.079685,
     "end_time": "2021-04-06T18:27:19.022835",
     "exception": false,
     "start_time": "2021-04-06T18:27:18.943150",
     "status": "completed"
    },
    "tags": []
   },
   "outputs": [
    {
     "data": {
      "text/plain": [
       "gender              0\n",
       "age                 0\n",
       "id                  0\n",
       "became_member_on    0\n",
       "income              0\n",
       "dtype: int64"
      ]
     },
     "execution_count": 91,
     "metadata": {},
     "output_type": "execute_result"
    }
   ],
   "source": [
    "(profile.isnull().sum())"
   ]
  },
  {
   "cell_type": "code",
   "execution_count": 92,
   "id": "pressing-withdrawal",
   "metadata": {
    "execution": {
     "iopub.execute_input": "2021-04-06T18:27:19.559675Z",
     "iopub.status.busy": "2021-04-06T18:27:19.558712Z",
     "iopub.status.idle": "2021-04-06T18:27:19.656900Z",
     "shell.execute_reply": "2021-04-06T18:27:19.657332Z"
    },
    "papermill": {
     "duration": 0.159421,
     "end_time": "2021-04-06T18:27:19.657512",
     "exception": false,
     "start_time": "2021-04-06T18:27:19.498091",
     "status": "completed"
    },
    "tags": []
   },
   "outputs": [
    {
     "data": {
      "text/plain": [
       "<AxesSubplot:xlabel='income'>"
      ]
     },
     "execution_count": 92,
     "metadata": {},
     "output_type": "execute_result"
    },
    {
     "data": {
      "image/png": "[encoded data removed]",
      "text/plain": [
       "<Figure size 432x288 with 1 Axes>"
      ]
     },
     "metadata": {
      "needs_background": "light"
     },
     "output_type": "display_data"
    }
   ],
   "source": [
    "#Income distribution\n",
    "sns.boxplot(data=profile, x='income')"
   ]
  },
  {
   "cell_type": "code",
   "execution_count": 93,
   "id": "acknowledged-religious",
   "metadata": {
    "execution": {
     "iopub.execute_input": "2021-04-06T18:27:19.812378Z",
     "iopub.status.busy": "2021-04-06T18:27:19.811055Z",
     "iopub.status.idle": "2021-04-06T18:27:19.844807Z",
     "shell.execute_reply": "2021-04-06T18:27:19.845413Z"
    },
    "papermill": {
     "duration": 0.117043,
     "end_time": "2021-04-06T18:27:19.845598",
     "exception": false,
     "start_time": "2021-04-06T18:27:19.728555",
     "status": "completed"
    },
    "tags": []
   },
   "outputs": [],
   "source": [
    "#correct time format\n",
    "profile['became_member_on'] = pd.to_datetime(profile['became_member_on'].astype(str), format='%Y%m%d')\n"
   ]
  },
  {
   "cell_type": "code",
   "execution_count": 94,
   "id": "small-success",
   "metadata": {
    "execution": {
     "iopub.execute_input": "2021-04-06T18:27:19.976412Z",
     "iopub.status.busy": "2021-04-06T18:27:19.975607Z",
     "iopub.status.idle": "2021-04-06T18:27:19.981390Z",
     "shell.execute_reply": "2021-04-06T18:27:19.980791Z"
    },
    "papermill": {
     "duration": 0.071224,
     "end_time": "2021-04-06T18:27:19.981562",
     "exception": false,
     "start_time": "2021-04-06T18:27:19.910338",
     "status": "completed"
    },
    "tags": []
   },
   "outputs": [
    {
     "data": {
      "text/plain": [
       "1    2017-07-15\n",
       "3    2017-05-09\n",
       "5    2018-04-26\n",
       "8    2018-02-09\n",
       "12   2017-11-11\n",
       "Name: became_member_on, dtype: datetime64[ns]"
      ]
     },
     "execution_count": 94,
     "metadata": {},
     "output_type": "execute_result"
    }
   ],
   "source": [
    "profile['became_member_on'].head()"
   ]
  },
  {
   "cell_type": "markdown",
   "id": "separate-institution",
   "metadata": {
    "papermill": {
     "duration": 0.067242,
     "end_time": "2021-04-06T18:27:20.129586",
     "exception": false,
     "start_time": "2021-04-06T18:27:20.062344",
     "status": "completed"
    },
    "tags": []
   },
   "source": [
    "# Editing Attributes"
   ]
  },
  {
   "cell_type": "code",
   "execution_count": 95,
   "id": "charitable-mother",
   "metadata": {
    "execution": {
     "iopub.execute_input": "2021-04-06T18:27:20.256712Z",
     "iopub.status.busy": "2021-04-06T18:27:20.252689Z",
     "iopub.status.idle": "2021-04-06T18:27:20.281597Z",
     "shell.execute_reply": "2021-04-06T18:27:20.281047Z"
    },
    "papermill": {
     "duration": 0.091868,
     "end_time": "2021-04-06T18:27:20.281777",
     "exception": false,
     "start_time": "2021-04-06T18:27:20.189909",
     "status": "completed"
    },
    "tags": []
   },
   "outputs": [],
   "source": [
    "profile['year'] = profile['became_member_on'].dt.year\n",
    "profile['month'] = profile['became_member_on'].dt.month\n",
    "profile['day']=profile['became_member_on'].dt.day_name()\n",
    "profile['member_since_how_manydays'] = (pd.to_datetime('today') - profile['became_member_on']).astype('timedelta64[D]').astype(int)"
   ]
  },
  {
   "cell_type": "code",
   "execution_count": 96,
   "id": "virgin-nickname",
   "metadata": {
    "execution": {
     "iopub.execute_input": "2021-04-06T18:27:20.410031Z",
     "iopub.status.busy": "2021-04-06T18:27:20.409051Z",
     "iopub.status.idle": "2021-04-06T18:27:20.413566Z",
     "shell.execute_reply": "2021-04-06T18:27:20.412942Z"
    },
    "papermill": {
     "duration": 0.070474,
     "end_time": "2021-04-06T18:27:20.413737",
     "exception": false,
     "start_time": "2021-04-06T18:27:20.343263",
     "status": "completed"
    },
    "tags": []
   },
   "outputs": [],
   "source": [
    "profile.rename(columns={'id': 'customer_id'}, inplace=True)"
   ]
  },
  {
   "cell_type": "code",
   "execution_count": 97,
   "id": "subject-turning",
   "metadata": {
    "execution": {
     "iopub.execute_input": "2021-04-06T18:27:20.554605Z",
     "iopub.status.busy": "2021-04-06T18:27:20.553514Z",
     "iopub.status.idle": "2021-04-06T18:27:20.562833Z",
     "shell.execute_reply": "2021-04-06T18:27:20.561344Z"
    },
    "papermill": {
     "duration": 0.081742,
     "end_time": "2021-04-06T18:27:20.563088",
     "exception": false,
     "start_time": "2021-04-06T18:27:20.481346",
     "status": "completed"
    },
    "tags": []
   },
   "outputs": [
    {
     "data": {
      "text/plain": [
       "(14825, 9)"
      ]
     },
     "execution_count": 97,
     "metadata": {},
     "output_type": "execute_result"
    }
   ],
   "source": [
    "profile.shape"
   ]
  },
  {
   "cell_type": "code",
   "execution_count": 98,
   "id": "external-welding",
   "metadata": {
    "execution": {
     "iopub.execute_input": "2021-04-06T18:27:20.691445Z",
     "iopub.status.busy": "2021-04-06T18:27:20.689111Z",
     "iopub.status.idle": "2021-04-06T18:27:20.710719Z",
     "shell.execute_reply": "2021-04-06T18:27:20.709932Z"
    },
    "papermill": {
     "duration": 0.084375,
     "end_time": "2021-04-06T18:27:20.710877",
     "exception": false,
     "start_time": "2021-04-06T18:27:20.626502",
     "status": "completed"
    },
    "tags": []
   },
   "outputs": [
    {
     "data": {
      "text/html": [
       "<div>\n",
       "<style scoped>\n",
       "    .dataframe tbody tr th:only-of-type {\n",
       "        vertical-align: middle;\n",
       "    }\n",
       "\n",
       "    .dataframe tbody tr th {\n",
       "        vertical-align: top;\n",
       "    }\n",
       "\n",
       "    .dataframe thead th {\n",
       "        text-align: right;\n",
       "    }\n",
       "</style>\n",
       "<table border=\"1\" class=\"dataframe\">\n",
       "  <thead>\n",
       "    <tr style=\"text-align: right;\">\n",
       "      <th></th>\n",
       "      <th>index</th>\n",
       "      <th>gender</th>\n",
       "      <th>age</th>\n",
       "      <th>customer_id</th>\n",
       "      <th>became_member_on</th>\n",
       "      <th>income</th>\n",
       "      <th>year</th>\n",
       "      <th>month</th>\n",
       "      <th>day</th>\n",
       "      <th>member_since_how_manydays</th>\n",
       "    </tr>\n",
       "  </thead>\n",
       "  <tbody>\n",
       "    <tr>\n",
       "      <th>0</th>\n",
       "      <td>1</td>\n",
       "      <td>F</td>\n",
       "      <td>55</td>\n",
       "      <td>0610b486422d4921ae7d2bf64640c50b</td>\n",
       "      <td>2017-07-15</td>\n",
       "      <td>112000.0</td>\n",
       "      <td>2017</td>\n",
       "      <td>7</td>\n",
       "      <td>Saturday</td>\n",
       "      <td>1893</td>\n",
       "    </tr>\n",
       "    <tr>\n",
       "      <th>1</th>\n",
       "      <td>3</td>\n",
       "      <td>F</td>\n",
       "      <td>75</td>\n",
       "      <td>78afa995795e4d85b5d9ceeca43f5fef</td>\n",
       "      <td>2017-05-09</td>\n",
       "      <td>100000.0</td>\n",
       "      <td>2017</td>\n",
       "      <td>5</td>\n",
       "      <td>Tuesday</td>\n",
       "      <td>1960</td>\n",
       "    </tr>\n",
       "    <tr>\n",
       "      <th>2</th>\n",
       "      <td>5</td>\n",
       "      <td>M</td>\n",
       "      <td>68</td>\n",
       "      <td>e2127556f4f64592b11af22de27a7932</td>\n",
       "      <td>2018-04-26</td>\n",
       "      <td>70000.0</td>\n",
       "      <td>2018</td>\n",
       "      <td>4</td>\n",
       "      <td>Thursday</td>\n",
       "      <td>1608</td>\n",
       "    </tr>\n",
       "    <tr>\n",
       "      <th>3</th>\n",
       "      <td>8</td>\n",
       "      <td>M</td>\n",
       "      <td>65</td>\n",
       "      <td>389bc3fa690240e798340f5a15918d5c</td>\n",
       "      <td>2018-02-09</td>\n",
       "      <td>53000.0</td>\n",
       "      <td>2018</td>\n",
       "      <td>2</td>\n",
       "      <td>Friday</td>\n",
       "      <td>1684</td>\n",
       "    </tr>\n",
       "    <tr>\n",
       "      <th>4</th>\n",
       "      <td>12</td>\n",
       "      <td>M</td>\n",
       "      <td>58</td>\n",
       "      <td>2eeac8d8feae4a8cad5a6af0499a211d</td>\n",
       "      <td>2017-11-11</td>\n",
       "      <td>51000.0</td>\n",
       "      <td>2017</td>\n",
       "      <td>11</td>\n",
       "      <td>Saturday</td>\n",
       "      <td>1774</td>\n",
       "    </tr>\n",
       "  </tbody>\n",
       "</table>\n",
       "</div>"
      ],
      "text/plain": [
       "   index gender  age                       customer_id became_member_on  \\\n",
       "0      1      F   55  0610b486422d4921ae7d2bf64640c50b       2017-07-15   \n",
       "1      3      F   75  78afa995795e4d85b5d9ceeca43f5fef       2017-05-09   \n",
       "2      5      M   68  e2127556f4f64592b11af22de27a7932       2018-04-26   \n",
       "3      8      M   65  389bc3fa690240e798340f5a15918d5c       2018-02-09   \n",
       "4     12      M   58  2eeac8d8feae4a8cad5a6af0499a211d       2017-11-11   \n",
       "\n",
       "     income  year  month       day  member_since_how_manydays  \n",
       "0  112000.0  2017      7  Saturday                       1893  \n",
       "1  100000.0  2017      5   Tuesday                       1960  \n",
       "2   70000.0  2018      4  Thursday                       1608  \n",
       "3   53000.0  2018      2    Friday                       1684  \n",
       "4   51000.0  2017     11  Saturday                       1774  "
      ]
     },
     "execution_count": 98,
     "metadata": {},
     "output_type": "execute_result"
    }
   ],
   "source": [
    "profile.head().reset_index()"
   ]
  },
  {
   "cell_type": "code",
   "execution_count": 99,
   "id": "central-exclusive",
   "metadata": {
    "execution": {
     "iopub.execute_input": "2021-04-06T18:27:20.843586Z",
     "iopub.status.busy": "2021-04-06T18:27:20.842921Z",
     "iopub.status.idle": "2021-04-06T18:27:20.848745Z",
     "shell.execute_reply": "2021-04-06T18:27:20.849261Z"
    },
    "papermill": {
     "duration": 0.07562,
     "end_time": "2021-04-06T18:27:20.849443",
     "exception": false,
     "start_time": "2021-04-06T18:27:20.773823",
     "status": "completed"
    },
    "tags": []
   },
   "outputs": [
    {
     "data": {
      "text/plain": [
       "18"
      ]
     },
     "execution_count": 99,
     "metadata": {},
     "output_type": "execute_result"
    }
   ],
   "source": [
    "profile.age.min()"
   ]
  },
  {
   "cell_type": "code",
   "execution_count": 100,
   "id": "54a15efe",
   "metadata": {},
   "outputs": [
    {
     "data": {
      "text/plain": [
       "101"
      ]
     },
     "execution_count": 100,
     "metadata": {},
     "output_type": "execute_result"
    }
   ],
   "source": [
    "profile.age.max()"
   ]
  },
  {
   "cell_type": "markdown",
   "id": "recreational-fetish",
   "metadata": {
    "papermill": {
     "duration": 0.063633,
     "end_time": "2021-04-06T18:27:20.971703",
     "exception": false,
     "start_time": "2021-04-06T18:27:20.908070",
     "status": "completed"
    },
    "tags": []
   },
   "source": [
    "# Age Binning"
   ]
  },
  {
   "cell_type": "code",
   "execution_count": 101,
   "id": "parliamentary-swiss",
   "metadata": {
    "execution": {
     "iopub.execute_input": "2021-04-06T18:27:21.102940Z",
     "iopub.status.busy": "2021-04-06T18:27:21.101774Z",
     "iopub.status.idle": "2021-04-06T18:27:21.116517Z",
     "shell.execute_reply": "2021-04-06T18:27:21.117465Z"
    },
    "papermill": {
     "duration": 0.08689,
     "end_time": "2021-04-06T18:27:21.117682",
     "exception": false,
     "start_time": "2021-04-06T18:27:21.030792",
     "status": "completed"
    },
    "tags": []
   },
   "outputs": [
    {
     "data": {
      "text/plain": [
       "1        Middle-age(40-59)\n",
       "3               Old(60-79)\n",
       "5               Old(60-79)\n",
       "8               Old(60-79)\n",
       "12       Middle-age(40-59)\n",
       "               ...        \n",
       "16995    Middle-age(40-59)\n",
       "16996           Old(60-79)\n",
       "16997    Middle-age(40-59)\n",
       "16998     Very-Old(80-100)\n",
       "16999           Old(60-79)\n",
       "Name: age_group, Length: 14825, dtype: category\n",
       "Categories (5, object): ['Teenage(18-19)' < 'young(20-39)' < 'Middle-age(40-59)' < 'Old(60-79)' < 'Very-Old(80-100)']"
      ]
     },
     "execution_count": 101,
     "metadata": {},
     "output_type": "execute_result"
    }
   ],
   "source": [
    "profile['age_group'] = pd.cut(x=profile['age'], bins=[18, 20, 40, 60, 80, 101],\n",
    "                    labels=['Teenage(18-19)', 'young(20-39)', 'Middle-age(40-59)',\n",
    "                            'Old(60-79)', 'Very-Old(80-100)'], include_lowest=True)\n",
    "profile['age_group']"
   ]
  },
  {
   "cell_type": "markdown",
   "id": "toxic-postage",
   "metadata": {
    "papermill": {
     "duration": 0.063593,
     "end_time": "2021-04-06T18:27:21.243097",
     "exception": false,
     "start_time": "2021-04-06T18:27:21.179504",
     "status": "completed"
    },
    "tags": []
   },
   "source": [
    "# Distribution plot of gender"
   ]
  },
  {
   "cell_type": "code",
   "execution_count": 102,
   "id": "piano-attempt",
   "metadata": {
    "execution": {
     "iopub.execute_input": "2021-04-06T18:27:21.377946Z",
     "iopub.status.busy": "2021-04-06T18:27:21.377319Z",
     "iopub.status.idle": "2021-04-06T18:27:21.658525Z",
     "shell.execute_reply": "2021-04-06T18:27:21.657910Z"
    },
    "papermill": {
     "duration": 0.3553,
     "end_time": "2021-04-06T18:27:21.658699",
     "exception": false,
     "start_time": "2021-04-06T18:27:21.303399",
     "status": "completed"
    },
    "tags": []
   },
   "outputs": [
    {
     "data": {
      "application/vnd.plotly.v1+json": {
       "config": {
        "plotlyServerURL": "https://plot.ly"
       },
       "data": [
        {
         "marker": {
          "color": "teal"
         },
         "type": "bar",
         "x": [
          "M",
          "F",
          "O"
         ],
         "y": [
          8484,
          6129,
          212
         ]
        }
       ],
       "layout": {
        "template": {
         "data": {
          "bar": [
           {
            "error_x": {
             "color": "#2a3f5f"
            },
            "error_y": {
             "color": "#2a3f5f"
            },
            "marker": {
             "line": {
              "color": "#E5ECF6",
              "width": 0.5
             },
             "pattern": {
              "fillmode": "overlay",
              "size": 10,
              "solidity": 0.2
             }
            },
            "type": "bar"
           }
          ],
          "barpolar": [
           {
            "marker": {
             "line": {
              "color": "#E5ECF6",
              "width": 0.5
             },
             "pattern": {
              "fillmode": "overlay",
              "size": 10,
              "solidity": 0.2
             }
            },
            "type": "barpolar"
           }
          ],
          "carpet": [
           {
            "aaxis": {
             "endlinecolor": "#2a3f5f",
             "gridcolor": "white",
             "linecolor": "white",
             "minorgridcolor": "white",
             "startlinecolor": "#2a3f5f"
            },
            "baxis": {
             "endlinecolor": "#2a3f5f",
             "gridcolor": "white",
             "linecolor": "white",
             "minorgridcolor": "white",
             "startlinecolor": "#2a3f5f"
            },
            "type": "carpet"
           }
          ],
          "choropleth": [
           {
            "colorbar": {
             "outlinewidth": 0,
             "ticks": ""
            },
            "type": "choropleth"
           }
          ],
          "contour": [
           {
            "colorbar": {
             "outlinewidth": 0,
             "ticks": ""
            },
            "colorscale": [
             [
              0,
              "#0d0887"
             ],
             [
              0.1111111111111111,
              "#46039f"
             ],
             [
              0.2222222222222222,
              "#7201a8"
             ],
             [
              0.3333333333333333,
              "#9c179e"
             ],
             [
              0.4444444444444444,
              "#bd3786"
             ],
             [
              0.5555555555555556,
              "#d8576b"
             ],
             [
              0.6666666666666666,
              "#ed7953"
             ],
             [
              0.7777777777777778,
              "#fb9f3a"
             ],
             [
              0.8888888888888888,
              "#fdca26"
             ],
             [
              1,
              "#f0f921"
             ]
            ],
            "type": "contour"
           }
          ],
          "contourcarpet": [
           {
            "colorbar": {
             "outlinewidth": 0,
             "ticks": ""
            },
            "type": "contourcarpet"
           }
          ],
          "heatmap": [
           {
            "colorbar": {
             "outlinewidth": 0,
             "ticks": ""
            },
            "colorscale": [
             [
              0,
              "#0d0887"
             ],
             [
              0.1111111111111111,
              "#46039f"
             ],
             [
              0.2222222222222222,
              "#7201a8"
             ],
             [
              0.3333333333333333,
              "#9c179e"
             ],
             [
              0.4444444444444444,
              "#bd3786"
             ],
             [
              0.5555555555555556,
              "#d8576b"
             ],
             [
              0.6666666666666666,
              "#ed7953"
             ],
             [
              0.7777777777777778,
              "#fb9f3a"
             ],
             [
              0.8888888888888888,
              "#fdca26"
             ],
             [
              1,
              "#f0f921"
             ]
            ],
            "type": "heatmap"
           }
          ],
          "heatmapgl": [
           {
            "colorbar": {
             "outlinewidth": 0,
             "ticks": ""
            },
            "colorscale": [
             [
              0,
              "#0d0887"
             ],
             [
              0.1111111111111111,
              "#46039f"
             ],
             [
              0.2222222222222222,
              "#7201a8"
             ],
             [
              0.3333333333333333,
              "#9c179e"
             ],
             [
              0.4444444444444444,
              "#bd3786"
             ],
             [
              0.5555555555555556,
              "#d8576b"
             ],
             [
              0.6666666666666666,
              "#ed7953"
             ],
             [
              0.7777777777777778,
              "#fb9f3a"
             ],
             [
              0.8888888888888888,
              "#fdca26"
             ],
             [
              1,
              "#f0f921"
             ]
            ],
            "type": "heatmapgl"
           }
          ],
          "histogram": [
           {
            "marker": {
             "pattern": {
              "fillmode": "overlay",
              "size": 10,
              "solidity": 0.2
             }
            },
            "type": "histogram"
           }
          ],
          "histogram2d": [
           {
            "colorbar": {
             "outlinewidth": 0,
             "ticks": ""
            },
            "colorscale": [
             [
              0,
              "#0d0887"
             ],
             [
              0.1111111111111111,
              "#46039f"
             ],
             [
              0.2222222222222222,
              "#7201a8"
             ],
             [
              0.3333333333333333,
              "#9c179e"
             ],
             [
              0.4444444444444444,
              "#bd3786"
             ],
             [
              0.5555555555555556,
              "#d8576b"
             ],
             [
              0.6666666666666666,
              "#ed7953"
             ],
             [
              0.7777777777777778,
              "#fb9f3a"
             ],
             [
              0.8888888888888888,
              "#fdca26"
             ],
             [
              1,
              "#f0f921"
             ]
            ],
            "type": "histogram2d"
           }
          ],
          "histogram2dcontour": [
           {
            "colorbar": {
             "outlinewidth": 0,
             "ticks": ""
            },
            "colorscale": [
             [
              0,
              "#0d0887"
             ],
             [
              0.1111111111111111,
              "#46039f"
             ],
             [
              0.2222222222222222,
              "#7201a8"
             ],
             [
              0.3333333333333333,
              "#9c179e"
             ],
             [
              0.4444444444444444,
              "#bd3786"
             ],
             [
              0.5555555555555556,
              "#d8576b"
             ],
             [
              0.6666666666666666,
              "#ed7953"
             ],
             [
              0.7777777777777778,
              "#fb9f3a"
             ],
             [
              0.8888888888888888,
              "#fdca26"
             ],
             [
              1,
              "#f0f921"
             ]
            ],
            "type": "histogram2dcontour"
           }
          ],
          "mesh3d": [
           {
            "colorbar": {
             "outlinewidth": 0,
             "ticks": ""
            },
            "type": "mesh3d"
           }
          ],
          "parcoords": [
           {
            "line": {
             "colorbar": {
              "outlinewidth": 0,
              "ticks": ""
             }
            },
            "type": "parcoords"
           }
          ],
          "pie": [
           {
            "automargin": true,
            "type": "pie"
           }
          ],
          "scatter": [
           {
            "marker": {
             "colorbar": {
              "outlinewidth": 0,
              "ticks": ""
             }
            },
            "type": "scatter"
           }
          ],
          "scatter3d": [
           {
            "line": {
             "colorbar": {
              "outlinewidth": 0,
              "ticks": ""
             }
            },
            "marker": {
             "colorbar": {
              "outlinewidth": 0,
              "ticks": ""
             }
            },
            "type": "scatter3d"
           }
          ],
          "scattercarpet": [
           {
            "marker": {
             "colorbar": {
              "outlinewidth": 0,
              "ticks": ""
             }
            },
            "type": "scattercarpet"
           }
          ],
          "scattergeo": [
           {
            "marker": {
             "colorbar": {
              "outlinewidth": 0,
              "ticks": ""
             }
            },
            "type": "scattergeo"
           }
          ],
          "scattergl": [
           {
            "marker": {
             "colorbar": {
              "outlinewidth": 0,
              "ticks": ""
             }
            },
            "type": "scattergl"
           }
          ],
          "scattermapbox": [
           {
            "marker": {
             "colorbar": {
              "outlinewidth": 0,
              "ticks": ""
             }
            },
            "type": "scattermapbox"
           }
          ],
          "scatterpolar": [
           {
            "marker": {
             "colorbar": {
              "outlinewidth": 0,
              "ticks": ""
             }
            },
            "type": "scatterpolar"
           }
          ],
          "scatterpolargl": [
           {
            "marker": {
             "colorbar": {
              "outlinewidth": 0,
              "ticks": ""
             }
            },
            "type": "scatterpolargl"
           }
          ],
          "scatterternary": [
           {
            "marker": {
             "colorbar": {
              "outlinewidth": 0,
              "ticks": ""
             }
            },
            "type": "scatterternary"
           }
          ],
          "surface": [
           {
            "colorbar": {
             "outlinewidth": 0,
             "ticks": ""
            },
            "colorscale": [
             [
              0,
              "#0d0887"
             ],
             [
              0.1111111111111111,
              "#46039f"
             ],
             [
              0.2222222222222222,
              "#7201a8"
             ],
             [
              0.3333333333333333,
              "#9c179e"
             ],
             [
              0.4444444444444444,
              "#bd3786"
             ],
             [
              0.5555555555555556,
              "#d8576b"
             ],
             [
              0.6666666666666666,
              "#ed7953"
             ],
             [
              0.7777777777777778,
              "#fb9f3a"
             ],
             [
              0.8888888888888888,
              "#fdca26"
             ],
             [
              1,
              "#f0f921"
             ]
            ],
            "type": "surface"
           }
          ],
          "table": [
           {
            "cells": {
             "fill": {
              "color": "#EBF0F8"
             },
             "line": {
              "color": "white"
             }
            },
            "header": {
             "fill": {
              "color": "#C8D4E3"
             },
             "line": {
              "color": "white"
             }
            },
            "type": "table"
           }
          ]
         },
         "layout": {
          "annotationdefaults": {
           "arrowcolor": "#2a3f5f",
           "arrowhead": 0,
           "arrowwidth": 1
          },
          "autotypenumbers": "strict",
          "coloraxis": {
           "colorbar": {
            "outlinewidth": 0,
            "ticks": ""
           }
          },
          "colorscale": {
           "diverging": [
            [
             0,
             "#8e0152"
            ],
            [
             0.1,
             "#c51b7d"
            ],
            [
             0.2,
             "#de77ae"
            ],
            [
             0.3,
             "#f1b6da"
            ],
            [
             0.4,
             "#fde0ef"
            ],
            [
             0.5,
             "#f7f7f7"
            ],
            [
             0.6,
             "#e6f5d0"
            ],
            [
             0.7,
             "#b8e186"
            ],
            [
             0.8,
             "#7fbc41"
            ],
            [
             0.9,
             "#4d9221"
            ],
            [
             1,
             "#276419"
            ]
           ],
           "sequential": [
            [
             0,
             "#0d0887"
            ],
            [
             0.1111111111111111,
             "#46039f"
            ],
            [
             0.2222222222222222,
             "#7201a8"
            ],
            [
             0.3333333333333333,
             "#9c179e"
            ],
            [
             0.4444444444444444,
             "#bd3786"
            ],
            [
             0.5555555555555556,
             "#d8576b"
            ],
            [
             0.6666666666666666,
             "#ed7953"
            ],
            [
             0.7777777777777778,
             "#fb9f3a"
            ],
            [
             0.8888888888888888,
             "#fdca26"
            ],
            [
             1,
             "#f0f921"
            ]
           ],
           "sequentialminus": [
            [
             0,
             "#0d0887"
            ],
            [
             0.1111111111111111,
             "#46039f"
            ],
            [
             0.2222222222222222,
             "#7201a8"
            ],
            [
             0.3333333333333333,
             "#9c179e"
            ],
            [
             0.4444444444444444,
             "#bd3786"
            ],
            [
             0.5555555555555556,
             "#d8576b"
            ],
            [
             0.6666666666666666,
             "#ed7953"
            ],
            [
             0.7777777777777778,
             "#fb9f3a"
            ],
            [
             0.8888888888888888,
             "#fdca26"
            ],
            [
             1,
             "#f0f921"
            ]
           ]
          },
          "colorway": [
           "#636efa",
           "#EF553B",
           "#00cc96",
           "#ab63fa",
           "#FFA15A",
           "#19d3f3",
           "#FF6692",
           "#B6E880",
           "#FF97FF",
           "#FECB52"
          ],
          "font": {
           "color": "#2a3f5f"
          },
          "geo": {
           "bgcolor": "white",
           "lakecolor": "white",
           "landcolor": "#E5ECF6",
           "showlakes": true,
           "showland": true,
           "subunitcolor": "white"
          },
          "hoverlabel": {
           "align": "left"
          },
          "hovermode": "closest",
          "mapbox": {
           "style": "light"
          },
          "paper_bgcolor": "white",
          "plot_bgcolor": "#E5ECF6",
          "polar": {
           "angularaxis": {
            "gridcolor": "white",
            "linecolor": "white",
            "ticks": ""
           },
           "bgcolor": "#E5ECF6",
           "radialaxis": {
            "gridcolor": "white",
            "linecolor": "white",
            "ticks": ""
           }
          },
          "scene": {
           "xaxis": {
            "backgroundcolor": "#E5ECF6",
            "gridcolor": "white",
            "gridwidth": 2,
            "linecolor": "white",
            "showbackground": true,
            "ticks": "",
            "zerolinecolor": "white"
           },
           "yaxis": {
            "backgroundcolor": "#E5ECF6",
            "gridcolor": "white",
            "gridwidth": 2,
            "linecolor": "white",
            "showbackground": true,
            "ticks": "",
            "zerolinecolor": "white"
           },
           "zaxis": {
            "backgroundcolor": "#E5ECF6",
            "gridcolor": "white",
            "gridwidth": 2,
            "linecolor": "white",
            "showbackground": true,
            "ticks": "",
            "zerolinecolor": "white"
           }
          },
          "shapedefaults": {
           "line": {
            "color": "#2a3f5f"
           }
          },
          "ternary": {
           "aaxis": {
            "gridcolor": "white",
            "linecolor": "white",
            "ticks": ""
           },
           "baxis": {
            "gridcolor": "white",
            "linecolor": "white",
            "ticks": ""
           },
           "bgcolor": "#E5ECF6",
           "caxis": {
            "gridcolor": "white",
            "linecolor": "white",
            "ticks": ""
           }
          },
          "title": {
           "x": 0.05
          },
          "xaxis": {
           "automargin": true,
           "gridcolor": "white",
           "linecolor": "white",
           "ticks": "",
           "title": {
            "standoff": 15
           },
           "zerolinecolor": "white",
           "zerolinewidth": 2
          },
          "yaxis": {
           "automargin": true,
           "gridcolor": "white",
           "linecolor": "white",
           "ticks": "",
           "title": {
            "standoff": 15
           },
           "zerolinecolor": "white",
           "zerolinewidth": 2
          }
         }
        },
        "title": {
         "text": "Gender Distribution",
         "x": 0.5
        }
       }
      }
     },
     "metadata": {},
     "output_type": "display_data"
    }
   ],
   "source": [
    "val = profile['gender'].value_counts().index\n",
    "cnt = profile['gender'].value_counts().values\n",
    "\n",
    "fig = go.Figure([go.Bar(x=val, y=cnt, marker_color='teal')])\n",
    "fig.update_layout(title_text='Gender Distribution', title_x=0.5)\n",
    "fig.show()"
   ]
  },
  {
   "cell_type": "code",
   "execution_count": 103,
   "id": "worse-longitude",
   "metadata": {
    "execution": {
     "iopub.execute_input": "2021-04-06T18:27:21.798721Z",
     "iopub.status.busy": "2021-04-06T18:27:21.797883Z",
     "iopub.status.idle": "2021-04-06T18:27:21.976131Z",
     "shell.execute_reply": "2021-04-06T18:27:21.974920Z"
    },
    "papermill": {
     "duration": 0.254873,
     "end_time": "2021-04-06T18:27:21.976323",
     "exception": false,
     "start_time": "2021-04-06T18:27:21.721450",
     "status": "completed"
    },
    "tags": []
   },
   "outputs": [
    {
     "data": {
      "text/plain": [
       "Text(0.5, 1.0, 'Age-Group of members at Starbucks')"
      ]
     },
     "execution_count": 103,
     "metadata": {},
     "output_type": "execute_result"
    },
    {
     "data": {
      "image/png": "[encoded data removed]",
      "text/plain": [
       "<Figure size 864x504 with 1 Axes>"
      ]
     },
     "metadata": {
      "needs_background": "light"
     },
     "output_type": "display_data"
    }
   ],
   "source": [
    "fig = plt.figure(figsize = (12,7))\n",
    "sns.countplot(x='age_group',data=profile)\n",
    "plt.xticks(rotation=0)\n",
    "plt.title('Age-Group of members at Starbucks')"
   ]
  },
  {
   "cell_type": "markdown",
   "id": "dominant-chassis",
   "metadata": {
    "papermill": {
     "duration": 0.062318,
     "end_time": "2021-04-06T18:27:22.101176",
     "exception": false,
     "start_time": "2021-04-06T18:27:22.038858",
     "status": "completed"
    },
    "tags": []
   },
   "source": [
    "# Distribution plot of income"
   ]
  },
  {
   "cell_type": "code",
   "execution_count": 104,
   "id": "aging-internet",
   "metadata": {
    "execution": {
     "iopub.execute_input": "2021-04-06T18:27:22.237907Z",
     "iopub.status.busy": "2021-04-06T18:27:22.237287Z",
     "iopub.status.idle": "2021-04-06T18:27:22.251393Z",
     "shell.execute_reply": "2021-04-06T18:27:22.251891Z"
    },
    "papermill": {
     "duration": 0.0857,
     "end_time": "2021-04-06T18:27:22.252133",
     "exception": false,
     "start_time": "2021-04-06T18:27:22.166433",
     "status": "completed"
    },
    "tags": []
   },
   "outputs": [
    {
     "data": {
      "application/vnd.plotly.v1+json": {
       "config": {
        "plotlyServerURL": "https://plot.ly"
       },
       "data": [
        {
         "marker": {
          "color": "hotpink"
         },
         "type": "bar",
         "x": [
          73000,
          72000,
          71000,
          57000,
          53000,
          74000,
          52000,
          56000,
          54000,
          70000,
          51000,
          64000,
          61000,
          55000,
          50000,
          60000,
          59000,
          75000,
          67000,
          58000,
          65000,
          62000,
          68000,
          31000,
          66000,
          32000,
          33000,
          39000,
          37000,
          63000,
          35000,
          41000,
          34000,
          69000,
          45000,
          40000,
          47000,
          36000,
          48000,
          38000,
          46000,
          42000,
          44000,
          43000,
          79000,
          77000,
          76000,
          49000,
          78000,
          80000,
          87000,
          84000,
          81000,
          88000,
          85000,
          92000,
          89000,
          96000,
          93000,
          83000,
          86000,
          95000,
          82000,
          97000,
          99000,
          90000,
          98000,
          94000,
          91000,
          30000,
          100000,
          109000,
          103000,
          118000,
          105000,
          110000,
          108000,
          106000,
          104000,
          111000,
          113000,
          119000,
          114000,
          115000,
          102000,
          101000,
          116000,
          107000,
          112000,
          117000,
          120000
         ],
         "y": [
          314,
          297,
          294,
          288,
          282,
          282,
          281,
          281,
          272,
          270,
          268,
          258,
          258,
          254,
          253,
          251,
          243,
          243,
          242,
          239,
          238,
          229,
          228,
          223,
          222,
          216,
          213,
          209,
          209,
          206,
          206,
          204,
          199,
          196,
          196,
          195,
          192,
          192,
          186,
          185,
          181,
          181,
          180,
          169,
          166,
          158,
          157,
          157,
          157,
          152,
          151,
          148,
          147,
          146,
          145,
          140,
          137,
          132,
          132,
          129,
          128,
          126,
          126,
          124,
          123,
          114,
          112,
          106,
          106,
          88,
          87,
          62,
          59,
          58,
          58,
          58,
          57,
          56,
          55,
          55,
          54,
          54,
          53,
          50,
          48,
          48,
          46,
          45,
          45,
          32,
          13
         ]
        }
       ],
       "layout": {
        "template": {
         "data": {
          "bar": [
           {
            "error_x": {
             "color": "#2a3f5f"
            },
            "error_y": {
             "color": "#2a3f5f"
            },
            "marker": {
             "line": {
              "color": "#E5ECF6",
              "width": 0.5
             },
             "pattern": {
              "fillmode": "overlay",
              "size": 10,
              "solidity": 0.2
             }
            },
            "type": "bar"
           }
          ],
          "barpolar": [
           {
            "marker": {
             "line": {
              "color": "#E5ECF6",
              "width": 0.5
             },
             "pattern": {
              "fillmode": "overlay",
              "size": 10,
              "solidity": 0.2
             }
            },
            "type": "barpolar"
           }
          ],
          "carpet": [
           {
            "aaxis": {
             "endlinecolor": "#2a3f5f",
             "gridcolor": "white",
             "linecolor": "white",
             "minorgridcolor": "white",
             "startlinecolor": "#2a3f5f"
            },
            "baxis": {
             "endlinecolor": "#2a3f5f",
             "gridcolor": "white",
             "linecolor": "white",
             "minorgridcolor": "white",
             "startlinecolor": "#2a3f5f"
            },
            "type": "carpet"
           }
          ],
          "choropleth": [
           {
            "colorbar": {
             "outlinewidth": 0,
             "ticks": ""
            },
            "type": "choropleth"
           }
          ],
          "contour": [
           {
            "colorbar": {
             "outlinewidth": 0,
             "ticks": ""
            },
            "colorscale": [
             [
              0,
              "#0d0887"
             ],
             [
              0.1111111111111111,
              "#46039f"
             ],
             [
              0.2222222222222222,
              "#7201a8"
             ],
             [
              0.3333333333333333,
              "#9c179e"
             ],
             [
              0.4444444444444444,
              "#bd3786"
             ],
             [
              0.5555555555555556,
              "#d8576b"
             ],
             [
              0.6666666666666666,
              "#ed7953"
             ],
             [
              0.7777777777777778,
              "#fb9f3a"
             ],
             [
              0.8888888888888888,
              "#fdca26"
             ],
             [
              1,
              "#f0f921"
             ]
            ],
            "type": "contour"
           }
          ],
          "contourcarpet": [
           {
            "colorbar": {
             "outlinewidth": 0,
             "ticks": ""
            },
            "type": "contourcarpet"
           }
          ],
          "heatmap": [
           {
            "colorbar": {
             "outlinewidth": 0,
             "ticks": ""
            },
            "colorscale": [
             [
              0,
              "#0d0887"
             ],
             [
              0.1111111111111111,
              "#46039f"
             ],
             [
              0.2222222222222222,
              "#7201a8"
             ],
             [
              0.3333333333333333,
              "#9c179e"
             ],
             [
              0.4444444444444444,
              "#bd3786"
             ],
             [
              0.5555555555555556,
              "#d8576b"
             ],
             [
              0.6666666666666666,
              "#ed7953"
             ],
             [
              0.7777777777777778,
              "#fb9f3a"
             ],
             [
              0.8888888888888888,
              "#fdca26"
             ],
             [
              1,
              "#f0f921"
             ]
            ],
            "type": "heatmap"
           }
          ],
          "heatmapgl": [
           {
            "colorbar": {
             "outlinewidth": 0,
             "ticks": ""
            },
            "colorscale": [
             [
              0,
              "#0d0887"
             ],
             [
              0.1111111111111111,
              "#46039f"
             ],
             [
              0.2222222222222222,
              "#7201a8"
             ],
             [
              0.3333333333333333,
              "#9c179e"
             ],
             [
              0.4444444444444444,
              "#bd3786"
             ],
             [
              0.5555555555555556,
              "#d8576b"
             ],
             [
              0.6666666666666666,
              "#ed7953"
             ],
             [
              0.7777777777777778,
              "#fb9f3a"
             ],
             [
              0.8888888888888888,
              "#fdca26"
             ],
             [
              1,
              "#f0f921"
             ]
            ],
            "type": "heatmapgl"
           }
          ],
          "histogram": [
           {
            "marker": {
             "pattern": {
              "fillmode": "overlay",
              "size": 10,
              "solidity": 0.2
             }
            },
            "type": "histogram"
           }
          ],
          "histogram2d": [
           {
            "colorbar": {
             "outlinewidth": 0,
             "ticks": ""
            },
            "colorscale": [
             [
              0,
              "#0d0887"
             ],
             [
              0.1111111111111111,
              "#46039f"
             ],
             [
              0.2222222222222222,
              "#7201a8"
             ],
             [
              0.3333333333333333,
              "#9c179e"
             ],
             [
              0.4444444444444444,
              "#bd3786"
             ],
             [
              0.5555555555555556,
              "#d8576b"
             ],
             [
              0.6666666666666666,
              "#ed7953"
             ],
             [
              0.7777777777777778,
              "#fb9f3a"
             ],
             [
              0.8888888888888888,
              "#fdca26"
             ],
             [
              1,
              "#f0f921"
             ]
            ],
            "type": "histogram2d"
           }
          ],
          "histogram2dcontour": [
           {
            "colorbar": {
             "outlinewidth": 0,
             "ticks": ""
            },
            "colorscale": [
             [
              0,
              "#0d0887"
             ],
             [
              0.1111111111111111,
              "#46039f"
             ],
             [
              0.2222222222222222,
              "#7201a8"
             ],
             [
              0.3333333333333333,
              "#9c179e"
             ],
             [
              0.4444444444444444,
              "#bd3786"
             ],
             [
              0.5555555555555556,
              "#d8576b"
             ],
             [
              0.6666666666666666,
              "#ed7953"
             ],
             [
              0.7777777777777778,
              "#fb9f3a"
             ],
             [
              0.8888888888888888,
              "#fdca26"
             ],
             [
              1,
              "#f0f921"
             ]
            ],
            "type": "histogram2dcontour"
           }
          ],
          "mesh3d": [
           {
            "colorbar": {
             "outlinewidth": 0,
             "ticks": ""
            },
            "type": "mesh3d"
           }
          ],
          "parcoords": [
           {
            "line": {
             "colorbar": {
              "outlinewidth": 0,
              "ticks": ""
             }
            },
            "type": "parcoords"
           }
          ],
          "pie": [
           {
            "automargin": true,
            "type": "pie"
           }
          ],
          "scatter": [
           {
            "marker": {
             "colorbar": {
              "outlinewidth": 0,
              "ticks": ""
             }
            },
            "type": "scatter"
           }
          ],
          "scatter3d": [
           {
            "line": {
             "colorbar": {
              "outlinewidth": 0,
              "ticks": ""
             }
            },
            "marker": {
             "colorbar": {
              "outlinewidth": 0,
              "ticks": ""
             }
            },
            "type": "scatter3d"
           }
          ],
          "scattercarpet": [
           {
            "marker": {
             "colorbar": {
              "outlinewidth": 0,
              "ticks": ""
             }
            },
            "type": "scattercarpet"
           }
          ],
          "scattergeo": [
           {
            "marker": {
             "colorbar": {
              "outlinewidth": 0,
              "ticks": ""
             }
            },
            "type": "scattergeo"
           }
          ],
          "scattergl": [
           {
            "marker": {
             "colorbar": {
              "outlinewidth": 0,
              "ticks": ""
             }
            },
            "type": "scattergl"
           }
          ],
          "scattermapbox": [
           {
            "marker": {
             "colorbar": {
              "outlinewidth": 0,
              "ticks": ""
             }
            },
            "type": "scattermapbox"
           }
          ],
          "scatterpolar": [
           {
            "marker": {
             "colorbar": {
              "outlinewidth": 0,
              "ticks": ""
             }
            },
            "type": "scatterpolar"
           }
          ],
          "scatterpolargl": [
           {
            "marker": {
             "colorbar": {
              "outlinewidth": 0,
              "ticks": ""
             }
            },
            "type": "scatterpolargl"
           }
          ],
          "scatterternary": [
           {
            "marker": {
             "colorbar": {
              "outlinewidth": 0,
              "ticks": ""
             }
            },
            "type": "scatterternary"
           }
          ],
          "surface": [
           {
            "colorbar": {
             "outlinewidth": 0,
             "ticks": ""
            },
            "colorscale": [
             [
              0,
              "#0d0887"
             ],
             [
              0.1111111111111111,
              "#46039f"
             ],
             [
              0.2222222222222222,
              "#7201a8"
             ],
             [
              0.3333333333333333,
              "#9c179e"
             ],
             [
              0.4444444444444444,
              "#bd3786"
             ],
             [
              0.5555555555555556,
              "#d8576b"
             ],
             [
              0.6666666666666666,
              "#ed7953"
             ],
             [
              0.7777777777777778,
              "#fb9f3a"
             ],
             [
              0.8888888888888888,
              "#fdca26"
             ],
             [
              1,
              "#f0f921"
             ]
            ],
            "type": "surface"
           }
          ],
          "table": [
           {
            "cells": {
             "fill": {
              "color": "#EBF0F8"
             },
             "line": {
              "color": "white"
             }
            },
            "header": {
             "fill": {
              "color": "#C8D4E3"
             },
             "line": {
              "color": "white"
             }
            },
            "type": "table"
           }
          ]
         },
         "layout": {
          "annotationdefaults": {
           "arrowcolor": "#2a3f5f",
           "arrowhead": 0,
           "arrowwidth": 1
          },
          "autotypenumbers": "strict",
          "coloraxis": {
           "colorbar": {
            "outlinewidth": 0,
            "ticks": ""
           }
          },
          "colorscale": {
           "diverging": [
            [
             0,
             "#8e0152"
            ],
            [
             0.1,
             "#c51b7d"
            ],
            [
             0.2,
             "#de77ae"
            ],
            [
             0.3,
             "#f1b6da"
            ],
            [
             0.4,
             "#fde0ef"
            ],
            [
             0.5,
             "#f7f7f7"
            ],
            [
             0.6,
             "#e6f5d0"
            ],
            [
             0.7,
             "#b8e186"
            ],
            [
             0.8,
             "#7fbc41"
            ],
            [
             0.9,
             "#4d9221"
            ],
            [
             1,
             "#276419"
            ]
           ],
           "sequential": [
            [
             0,
             "#0d0887"
            ],
            [
             0.1111111111111111,
             "#46039f"
            ],
            [
             0.2222222222222222,
             "#7201a8"
            ],
            [
             0.3333333333333333,
             "#9c179e"
            ],
            [
             0.4444444444444444,
             "#bd3786"
            ],
            [
             0.5555555555555556,
             "#d8576b"
            ],
            [
             0.6666666666666666,
             "#ed7953"
            ],
            [
             0.7777777777777778,
             "#fb9f3a"
            ],
            [
             0.8888888888888888,
             "#fdca26"
            ],
            [
             1,
             "#f0f921"
            ]
           ],
           "sequentialminus": [
            [
             0,
             "#0d0887"
            ],
            [
             0.1111111111111111,
             "#46039f"
            ],
            [
             0.2222222222222222,
             "#7201a8"
            ],
            [
             0.3333333333333333,
             "#9c179e"
            ],
            [
             0.4444444444444444,
             "#bd3786"
            ],
            [
             0.5555555555555556,
             "#d8576b"
            ],
            [
             0.6666666666666666,
             "#ed7953"
            ],
            [
             0.7777777777777778,
             "#fb9f3a"
            ],
            [
             0.8888888888888888,
             "#fdca26"
            ],
            [
             1,
             "#f0f921"
            ]
           ]
          },
          "colorway": [
           "#636efa",
           "#EF553B",
           "#00cc96",
           "#ab63fa",
           "#FFA15A",
           "#19d3f3",
           "#FF6692",
           "#B6E880",
           "#FF97FF",
           "#FECB52"
          ],
          "font": {
           "color": "#2a3f5f"
          },
          "geo": {
           "bgcolor": "white",
           "lakecolor": "white",
           "landcolor": "#E5ECF6",
           "showlakes": true,
           "showland": true,
           "subunitcolor": "white"
          },
          "hoverlabel": {
           "align": "left"
          },
          "hovermode": "closest",
          "mapbox": {
           "style": "light"
          },
          "paper_bgcolor": "white",
          "plot_bgcolor": "#E5ECF6",
          "polar": {
           "angularaxis": {
            "gridcolor": "white",
            "linecolor": "white",
            "ticks": ""
           },
           "bgcolor": "#E5ECF6",
           "radialaxis": {
            "gridcolor": "white",
            "linecolor": "white",
            "ticks": ""
           }
          },
          "scene": {
           "xaxis": {
            "backgroundcolor": "#E5ECF6",
            "gridcolor": "white",
            "gridwidth": 2,
            "linecolor": "white",
            "showbackground": true,
            "ticks": "",
            "zerolinecolor": "white"
           },
           "yaxis": {
            "backgroundcolor": "#E5ECF6",
            "gridcolor": "white",
            "gridwidth": 2,
            "linecolor": "white",
            "showbackground": true,
            "ticks": "",
            "zerolinecolor": "white"
           },
           "zaxis": {
            "backgroundcolor": "#E5ECF6",
            "gridcolor": "white",
            "gridwidth": 2,
            "linecolor": "white",
            "showbackground": true,
            "ticks": "",
            "zerolinecolor": "white"
           }
          },
          "shapedefaults": {
           "line": {
            "color": "#2a3f5f"
           }
          },
          "ternary": {
           "aaxis": {
            "gridcolor": "white",
            "linecolor": "white",
            "ticks": ""
           },
           "baxis": {
            "gridcolor": "white",
            "linecolor": "white",
            "ticks": ""
           },
           "bgcolor": "#E5ECF6",
           "caxis": {
            "gridcolor": "white",
            "linecolor": "white",
            "ticks": ""
           }
          },
          "title": {
           "x": 0.05
          },
          "xaxis": {
           "automargin": true,
           "gridcolor": "white",
           "linecolor": "white",
           "ticks": "",
           "title": {
            "standoff": 15
           },
           "zerolinecolor": "white",
           "zerolinewidth": 2
          },
          "yaxis": {
           "automargin": true,
           "gridcolor": "white",
           "linecolor": "white",
           "ticks": "",
           "title": {
            "standoff": 15
           },
           "zerolinecolor": "white",
           "zerolinewidth": 2
          }
         }
        },
        "title": {
         "text": "Distribution of Income",
         "x": 0.5
        }
       }
      }
     },
     "metadata": {},
     "output_type": "display_data"
    }
   ],
   "source": [
    "val = profile['income'].value_counts().index\n",
    "cnt = profile['income'].value_counts().values\n",
    "\n",
    "fig = go.Figure([go.Bar(x=val, y=cnt, marker_color='hotpink')])\n",
    "fig.update_layout(title_text='Distribution of Income', title_x=0.5)\n",
    "fig.show()"
   ]
  },
  {
   "cell_type": "code",
   "execution_count": 105,
   "id": "modern-ivory",
   "metadata": {
    "execution": {
     "iopub.execute_input": "2021-04-06T18:27:37.003045Z",
     "iopub.status.busy": "2021-04-06T18:27:37.002048Z",
     "iopub.status.idle": "2021-04-06T18:27:37.194833Z",
     "shell.execute_reply": "2021-04-06T18:27:37.195289Z"
    },
    "papermill": {
     "duration": 0.264611,
     "end_time": "2021-04-06T18:27:37.195475",
     "exception": false,
     "start_time": "2021-04-06T18:27:36.930864",
     "status": "completed"
    },
    "tags": []
   },
   "outputs": [
    {
     "data": {
      "text/plain": [
       "Text(0.5, 1.0, 'Members joined frequency in years')"
      ]
     },
     "execution_count": 105,
     "metadata": {},
     "output_type": "execute_result"
    },
    {
     "data": {
      "image/png": "[encoded data removed]",
      "text/plain": [
       "<Figure size 864x720 with 1 Axes>"
      ]
     },
     "metadata": {
      "needs_background": "light"
     },
     "output_type": "display_data"
    }
   ],
   "source": [
    "plt.figure(figsize=(12,10))\n",
    "sns.set(style=\"darkgrid\")\n",
    "ax = sns.countplot(y=\"year\", data=profile, palette=\"Set2\", order=profile['year'].value_counts().index[0:15])\n",
    "plt.title('Members joined frequency in years')"
   ]
  },
  {
   "cell_type": "code",
   "execution_count": 106,
   "id": "ethical-joseph",
   "metadata": {
    "execution": {
     "iopub.execute_input": "2021-04-06T18:27:38.060139Z",
     "iopub.status.busy": "2021-04-06T18:27:38.059213Z",
     "iopub.status.idle": "2021-04-06T18:27:38.064831Z",
     "shell.execute_reply": "2021-04-06T18:27:38.064198Z"
    },
    "papermill": {
     "duration": 0.084659,
     "end_time": "2021-04-06T18:27:38.064994",
     "exception": false,
     "start_time": "2021-04-06T18:27:37.980335",
     "status": "completed"
    },
    "tags": []
   },
   "outputs": [
    {
     "data": {
      "text/plain": [
       "M    0.572277\n",
       "F    0.413423\n",
       "O    0.014300\n",
       "Name: gender, dtype: float64"
      ]
     },
     "execution_count": 106,
     "metadata": {},
     "output_type": "execute_result"
    }
   ],
   "source": [
    "profile['gender'].value_counts(normalize=True)"
   ]
  },
  {
   "cell_type": "code",
   "execution_count": 107,
   "id": "proper-activation",
   "metadata": {
    "execution": {
     "iopub.execute_input": "2021-04-06T18:27:38.212361Z",
     "iopub.status.busy": "2021-04-06T18:27:38.208332Z",
     "iopub.status.idle": "2021-04-06T18:27:38.218014Z",
     "shell.execute_reply": "2021-04-06T18:27:38.217437Z"
    },
    "papermill": {
     "duration": 0.083373,
     "end_time": "2021-04-06T18:27:38.218190",
     "exception": false,
     "start_time": "2021-04-06T18:27:38.134817",
     "status": "completed"
    },
    "tags": []
   },
   "outputs": [
    {
     "data": {
      "text/plain": [
       "Middle-age(40-59)    0.403440\n",
       "Old(60-79)           0.307319\n",
       "young(20-39)         0.199798\n",
       "Very-Old(80-100)     0.066509\n",
       "Teenage(18-19)       0.022934\n",
       "Name: age_group, dtype: float64"
      ]
     },
     "execution_count": 107,
     "metadata": {},
     "output_type": "execute_result"
    }
   ],
   "source": [
    "profile['age_group'].value_counts(normalize=True)"
   ]
  },
  {
   "cell_type": "markdown",
   "id": "narrow-jumping",
   "metadata": {
    "papermill": {
     "duration": 0.066696,
     "end_time": "2021-04-06T18:27:38.352678",
     "exception": false,
     "start_time": "2021-04-06T18:27:38.285982",
     "status": "completed"
    },
    "tags": []
   },
   "source": [
    "# Profile data conclusions\n",
    "1. People joined as member increased from 2015 and highest in 2017\n",
    "2. Income distribution is not skewed much, and is in the range of 50k-73k\n",
    "3. 57% of the staff are Male, 41.3% Female and 1.4% Others\n",
    "4. Highest proportion of staff at around 40%  are in the age-group 40-59.\n",
    "5. Members are 57.2% males, 41.3 % Females and 1.4% Others"
   ]
  },
  {
   "cell_type": "markdown",
   "id": "minute-stability",
   "metadata": {
    "papermill": {
     "duration": 0.069076,
     "end_time": "2021-04-06T18:27:38.488256",
     "exception": false,
     "start_time": "2021-04-06T18:27:38.419180",
     "status": "completed"
    },
    "tags": []
   },
   "source": [
    "# EDA: Portfolio data"
   ]
  },
  {
   "cell_type": "code",
   "execution_count": 108,
   "id": "radical-payroll",
   "metadata": {
    "execution": {
     "iopub.execute_input": "2021-04-06T18:27:38.637665Z",
     "iopub.status.busy": "2021-04-06T18:27:38.636752Z",
     "iopub.status.idle": "2021-04-06T18:27:38.642805Z",
     "shell.execute_reply": "2021-04-06T18:27:38.642226Z"
    },
    "papermill": {
     "duration": 0.086608,
     "end_time": "2021-04-06T18:27:38.642954",
     "exception": false,
     "start_time": "2021-04-06T18:27:38.556346",
     "status": "completed"
    },
    "tags": []
   },
   "outputs": [
    {
     "data": {
      "text/plain": [
       "(10, 6)"
      ]
     },
     "execution_count": 108,
     "metadata": {},
     "output_type": "execute_result"
    }
   ],
   "source": [
    "pf.head()\n",
    "pf.shape"
   ]
  },
  {
   "cell_type": "code",
   "execution_count": 109,
   "id": "latest-boating",
   "metadata": {
    "execution": {
     "iopub.execute_input": "2021-04-06T18:27:38.796788Z",
     "iopub.status.busy": "2021-04-06T18:27:38.792762Z",
     "iopub.status.idle": "2021-04-06T18:27:38.805991Z",
     "shell.execute_reply": "2021-04-06T18:27:38.805396Z"
    },
    "papermill": {
     "duration": 0.092873,
     "end_time": "2021-04-06T18:27:38.806330",
     "exception": false,
     "start_time": "2021-04-06T18:27:38.713457",
     "status": "completed"
    },
    "tags": []
   },
   "outputs": [
    {
     "data": {
      "text/html": [
       "<div>\n",
       "<style scoped>\n",
       "    .dataframe tbody tr th:only-of-type {\n",
       "        vertical-align: middle;\n",
       "    }\n",
       "\n",
       "    .dataframe tbody tr th {\n",
       "        vertical-align: top;\n",
       "    }\n",
       "\n",
       "    .dataframe thead th {\n",
       "        text-align: right;\n",
       "    }\n",
       "</style>\n",
       "<table border=\"1\" class=\"dataframe\">\n",
       "  <thead>\n",
       "    <tr style=\"text-align: right;\">\n",
       "      <th></th>\n",
       "      <th>reward</th>\n",
       "      <th>channels</th>\n",
       "      <th>difficulty</th>\n",
       "      <th>duration</th>\n",
       "      <th>offer_type</th>\n",
       "      <th>id</th>\n",
       "    </tr>\n",
       "  </thead>\n",
       "  <tbody>\n",
       "    <tr>\n",
       "      <th>0</th>\n",
       "      <td>10</td>\n",
       "      <td>['email', 'mobile', 'social']</td>\n",
       "      <td>10</td>\n",
       "      <td>7</td>\n",
       "      <td>bogo</td>\n",
       "      <td>ae264e3637204a6fb9bb56bc8210ddfd</td>\n",
       "    </tr>\n",
       "    <tr>\n",
       "      <th>1</th>\n",
       "      <td>10</td>\n",
       "      <td>['web', 'email', 'mobile', 'social']</td>\n",
       "      <td>10</td>\n",
       "      <td>5</td>\n",
       "      <td>bogo</td>\n",
       "      <td>4d5c57ea9a6940dd891ad53e9dbe8da0</td>\n",
       "    </tr>\n",
       "    <tr>\n",
       "      <th>2</th>\n",
       "      <td>0</td>\n",
       "      <td>['web', 'email', 'mobile']</td>\n",
       "      <td>0</td>\n",
       "      <td>4</td>\n",
       "      <td>informational</td>\n",
       "      <td>3f207df678b143eea3cee63160fa8bed</td>\n",
       "    </tr>\n",
       "    <tr>\n",
       "      <th>3</th>\n",
       "      <td>5</td>\n",
       "      <td>['web', 'email', 'mobile']</td>\n",
       "      <td>5</td>\n",
       "      <td>7</td>\n",
       "      <td>bogo</td>\n",
       "      <td>9b98b8c7a33c4b65b9aebfe6a799e6d9</td>\n",
       "    </tr>\n",
       "    <tr>\n",
       "      <th>4</th>\n",
       "      <td>5</td>\n",
       "      <td>['web', 'email']</td>\n",
       "      <td>20</td>\n",
       "      <td>10</td>\n",
       "      <td>discount</td>\n",
       "      <td>0b1e1539f2cc45b7b9fa7c272da2e1d7</td>\n",
       "    </tr>\n",
       "    <tr>\n",
       "      <th>5</th>\n",
       "      <td>3</td>\n",
       "      <td>['web', 'email', 'mobile', 'social']</td>\n",
       "      <td>7</td>\n",
       "      <td>7</td>\n",
       "      <td>discount</td>\n",
       "      <td>2298d6c36e964ae4a3e7e9706d1fb8c2</td>\n",
       "    </tr>\n",
       "    <tr>\n",
       "      <th>6</th>\n",
       "      <td>2</td>\n",
       "      <td>['web', 'email', 'mobile', 'social']</td>\n",
       "      <td>10</td>\n",
       "      <td>10</td>\n",
       "      <td>discount</td>\n",
       "      <td>fafdcd668e3743c1bb461111dcafc2a4</td>\n",
       "    </tr>\n",
       "    <tr>\n",
       "      <th>7</th>\n",
       "      <td>0</td>\n",
       "      <td>['email', 'mobile', 'social']</td>\n",
       "      <td>0</td>\n",
       "      <td>3</td>\n",
       "      <td>informational</td>\n",
       "      <td>5a8bc65990b245e5a138643cd4eb9837</td>\n",
       "    </tr>\n",
       "    <tr>\n",
       "      <th>8</th>\n",
       "      <td>5</td>\n",
       "      <td>['web', 'email', 'mobile', 'social']</td>\n",
       "      <td>5</td>\n",
       "      <td>5</td>\n",
       "      <td>bogo</td>\n",
       "      <td>f19421c1d4aa40978ebb69ca19b0e20d</td>\n",
       "    </tr>\n",
       "    <tr>\n",
       "      <th>9</th>\n",
       "      <td>2</td>\n",
       "      <td>['web', 'email', 'mobile']</td>\n",
       "      <td>10</td>\n",
       "      <td>7</td>\n",
       "      <td>discount</td>\n",
       "      <td>2906b810c7d4411798c6938adc9daaa5</td>\n",
       "    </tr>\n",
       "  </tbody>\n",
       "</table>\n",
       "</div>"
      ],
      "text/plain": [
       "   reward                              channels  difficulty  duration  \\\n",
       "0      10         ['email', 'mobile', 'social']          10         7   \n",
       "1      10  ['web', 'email', 'mobile', 'social']          10         5   \n",
       "2       0            ['web', 'email', 'mobile']           0         4   \n",
       "3       5            ['web', 'email', 'mobile']           5         7   \n",
       "4       5                      ['web', 'email']          20        10   \n",
       "5       3  ['web', 'email', 'mobile', 'social']           7         7   \n",
       "6       2  ['web', 'email', 'mobile', 'social']          10        10   \n",
       "7       0         ['email', 'mobile', 'social']           0         3   \n",
       "8       5  ['web', 'email', 'mobile', 'social']           5         5   \n",
       "9       2            ['web', 'email', 'mobile']          10         7   \n",
       "\n",
       "      offer_type                                id  \n",
       "0           bogo  ae264e3637204a6fb9bb56bc8210ddfd  \n",
       "1           bogo  4d5c57ea9a6940dd891ad53e9dbe8da0  \n",
       "2  informational  3f207df678b143eea3cee63160fa8bed  \n",
       "3           bogo  9b98b8c7a33c4b65b9aebfe6a799e6d9  \n",
       "4       discount  0b1e1539f2cc45b7b9fa7c272da2e1d7  \n",
       "5       discount  2298d6c36e964ae4a3e7e9706d1fb8c2  \n",
       "6       discount  fafdcd668e3743c1bb461111dcafc2a4  \n",
       "7  informational  5a8bc65990b245e5a138643cd4eb9837  \n",
       "8           bogo  f19421c1d4aa40978ebb69ca19b0e20d  \n",
       "9       discount  2906b810c7d4411798c6938adc9daaa5  "
      ]
     },
     "execution_count": 109,
     "metadata": {},
     "output_type": "execute_result"
    }
   ],
   "source": [
    "channels_df = pf.groupby(['id','channels'])\n",
    "channels_df.head()"
   ]
  },
  {
   "cell_type": "markdown",
   "id": "79d8f26e",
   "metadata": {},
   "source": [
    "Correlation:"
   ]
  },
  {
   "cell_type": "code",
   "execution_count": 110,
   "id": "5b86b971",
   "metadata": {},
   "outputs": [
    {
     "data": {
      "text/html": [
       "<div>\n",
       "<style scoped>\n",
       "    .dataframe tbody tr th:only-of-type {\n",
       "        vertical-align: middle;\n",
       "    }\n",
       "\n",
       "    .dataframe tbody tr th {\n",
       "        vertical-align: top;\n",
       "    }\n",
       "\n",
       "    .dataframe thead th {\n",
       "        text-align: right;\n",
       "    }\n",
       "</style>\n",
       "<table border=\"1\" class=\"dataframe\">\n",
       "  <thead>\n",
       "    <tr style=\"text-align: right;\">\n",
       "      <th></th>\n",
       "      <th>reward</th>\n",
       "      <th>difficulty</th>\n",
       "      <th>duration</th>\n",
       "    </tr>\n",
       "  </thead>\n",
       "  <tbody>\n",
       "    <tr>\n",
       "      <th>reward</th>\n",
       "      <td>1.000000</td>\n",
       "      <td>0.465686</td>\n",
       "      <td>0.160262</td>\n",
       "    </tr>\n",
       "    <tr>\n",
       "      <th>difficulty</th>\n",
       "      <td>0.465686</td>\n",
       "      <td>1.000000</td>\n",
       "      <td>0.808414</td>\n",
       "    </tr>\n",
       "    <tr>\n",
       "      <th>duration</th>\n",
       "      <td>0.160262</td>\n",
       "      <td>0.808414</td>\n",
       "      <td>1.000000</td>\n",
       "    </tr>\n",
       "  </tbody>\n",
       "</table>\n",
       "</div>"
      ],
      "text/plain": [
       "              reward  difficulty  duration\n",
       "reward      1.000000    0.465686  0.160262\n",
       "difficulty  0.465686    1.000000  0.808414\n",
       "duration    0.160262    0.808414  1.000000"
      ]
     },
     "execution_count": 110,
     "metadata": {},
     "output_type": "execute_result"
    }
   ],
   "source": [
    "pf.corr()\n"
   ]
  },
  {
   "cell_type": "markdown",
   "metadata": {},
   "source": [
    "It is obvious that rewards which are more difficult to claim take more time (duration) to complete. This can be confirm as a result of high positive correation between difficulty and duration."
   ]
  },
  {
   "cell_type": "code",
   "execution_count": 111,
   "id": "western-desert",
   "metadata": {
    "execution": {
     "iopub.execute_input": "2021-04-06T18:27:38.949937Z",
     "iopub.status.busy": "2021-04-06T18:27:38.949025Z",
     "iopub.status.idle": "2021-04-06T18:27:39.236544Z",
     "shell.execute_reply": "2021-04-06T18:27:39.237051Z"
    },
    "papermill": {
     "duration": 0.361595,
     "end_time": "2021-04-06T18:27:39.237286",
     "exception": false,
     "start_time": "2021-04-06T18:27:38.875691",
     "status": "completed"
    },
    "tags": []
   },
   "outputs": [
    {
     "data": {
      "image/png": "[encoded data removed]",
      "text/plain": [
       "<Figure size 1080x720 with 1 Axes>"
      ]
     },
     "metadata": {},
     "output_type": "display_data"
    }
   ],
   "source": [
    "channels_df= channels_df.mean().reset_index()\n",
    "plt.figure(figsize=(15,10))\n",
    "sns.set(style=\"darkgrid\")\n",
    "ax = sns.countplot(x=\"duration\", data=channels_df, palette=\"Set2\", hue='channels')\n",
    "plt.ylabel('Number of Offers')\n",
    "plt.xlabel('Duration of Offers in days')\n",
    "plt.title('Offers based on duration and channels through which they are offered')\n",
    "plt.show()"
   ]
  },
  {
   "cell_type": "markdown",
   "id": "unlike-science",
   "metadata": {
    "papermill": {
     "duration": 0.072466,
     "end_time": "2021-04-06T18:27:39.379297",
     "exception": false,
     "start_time": "2021-04-06T18:27:39.306831",
     "status": "completed"
    },
    "tags": []
   },
   "source": [
    "# Number of offers based on difficulty and channels through which they are offered"
   ]
  },
  {
   "cell_type": "code",
   "execution_count": 112,
   "id": "overall-customs",
   "metadata": {
    "execution": {
     "iopub.execute_input": "2021-04-06T18:27:39.528886Z",
     "iopub.status.busy": "2021-04-06T18:27:39.528220Z",
     "iopub.status.idle": "2021-04-06T18:27:39.828657Z",
     "shell.execute_reply": "2021-04-06T18:27:39.829146Z"
    },
    "papermill": {
     "duration": 0.379623,
     "end_time": "2021-04-06T18:27:39.829393",
     "exception": false,
     "start_time": "2021-04-06T18:27:39.449770",
     "status": "completed"
    },
    "tags": []
   },
   "outputs": [
    {
     "data": {
      "text/plain": [
       "Text(0.5, 1.0, 'Offers based on difficulty and channels through which they are offered')"
      ]
     },
     "execution_count": 112,
     "metadata": {},
     "output_type": "execute_result"
    },
    {
     "data": {
      "image/png": "[encoded data removed]",
      "text/plain": [
       "<Figure size 1080x720 with 1 Axes>"
      ]
     },
     "metadata": {},
     "output_type": "display_data"
    }
   ],
   "source": [
    "plt.figure(figsize=(15,10))\n",
    "sns.set(style=\"darkgrid\")\n",
    "ax = sns.countplot(x=\"difficulty\", data=channels_df, palette=\"Set3\", hue='channels')\n",
    "plt.ylabel('Number of Offers')\n",
    "plt.xlabel('Difficulty of Offers in days')\n",
    "plt.title('Offers based on difficulty and channels through which they are offered')"
   ]
  },
  {
   "cell_type": "markdown",
   "id": "amazing-nomination",
   "metadata": {
    "papermill": {
     "duration": 0.071116,
     "end_time": "2021-04-06T18:27:39.974452",
     "exception": false,
     "start_time": "2021-04-06T18:27:39.903336",
     "status": "completed"
    },
    "tags": []
   },
   "source": [
    "1. One offer is most diffuclt with level of 20 and it is offered only through web and email"
   ]
  },
  {
   "cell_type": "markdown",
   "id": "loving-joseph",
   "metadata": {
    "papermill": {
     "duration": 0.074662,
     "end_time": "2021-04-06T18:27:40.123326",
     "exception": false,
     "start_time": "2021-04-06T18:27:40.048664",
     "status": "completed"
    },
    "tags": []
   },
   "source": [
    "# Types of Discounts on Offers"
   ]
  },
  {
   "cell_type": "code",
   "execution_count": 113,
   "id": "romantic-scanning",
   "metadata": {
    "execution": {
     "iopub.execute_input": "2021-04-06T18:27:40.276843Z",
     "iopub.status.busy": "2021-04-06T18:27:40.275782Z",
     "iopub.status.idle": "2021-04-06T18:27:40.280082Z",
     "shell.execute_reply": "2021-04-06T18:27:40.279104Z"
    },
    "papermill": {
     "duration": 0.085081,
     "end_time": "2021-04-06T18:27:40.280292",
     "exception": false,
     "start_time": "2021-04-06T18:27:40.195211",
     "status": "completed"
    },
    "tags": []
   },
   "outputs": [],
   "source": [
    "pie_df = pf.offer_type.value_counts().reset_index().offer_type"
   ]
  },
  {
   "cell_type": "code",
   "execution_count": 114,
   "id": "varying-series",
   "metadata": {
    "execution": {
     "iopub.execute_input": "2021-04-06T18:27:40.432402Z",
     "iopub.status.busy": "2021-04-06T18:27:40.431703Z",
     "iopub.status.idle": "2021-04-06T18:27:40.569326Z",
     "shell.execute_reply": "2021-04-06T18:27:40.568673Z"
    },
    "papermill": {
     "duration": 0.214512,
     "end_time": "2021-04-06T18:27:40.569473",
     "exception": false,
     "start_time": "2021-04-06T18:27:40.354961",
     "status": "completed"
    },
    "tags": []
   },
   "outputs": [
    {
     "data": {
      "image/png": "[encoded data removed]",
      "text/plain": [
       "<Figure size 576x576 with 1 Axes>"
      ]
     },
     "metadata": {},
     "output_type": "display_data"
    }
   ],
   "source": [
    "plt.figure(figsize=(8,8))\n",
    "labels = 'DISCOUNT','BOGO','INFORMATIONAL'\n",
    "colors = ['pink','yellow','blue']\n",
    "explode = (0, 0.1, 0)\n",
    "plt.pie(pie_df, labels=labels, autopct='%1.1f%%', colors=colors)\n",
    "plt.title('Types of Offers')\n",
    "plt.axis('equal')\n",
    "plt.show()"
   ]
  },
  {
   "cell_type": "code",
   "execution_count": 115,
   "id": "searching-craft",
   "metadata": {
    "execution": {
     "iopub.execute_input": "2021-04-06T18:27:40.898310Z",
     "iopub.status.busy": "2021-04-06T18:27:40.893027Z",
     "iopub.status.idle": "2021-04-06T18:27:41.078832Z",
     "shell.execute_reply": "2021-04-06T18:27:41.078001Z"
    },
    "papermill": {
     "duration": 0.28214,
     "end_time": "2021-04-06T18:27:41.078990",
     "exception": false,
     "start_time": "2021-04-06T18:27:40.796850",
     "status": "completed"
    },
    "tags": []
   },
   "outputs": [
    {
     "data": {
      "image/png": "[encoded data removed]",
      "text/plain": [
       "<Figure size 432x288 with 1 Axes>"
      ]
     },
     "metadata": {},
     "output_type": "display_data"
    }
   ],
   "source": [
    "\n",
    "sns.histplot(pf, x=\"reward\")\n",
    "plt.title('Distribution of Rewards for Offers')\n",
    "plt.show()\n"
   ]
  },
  {
   "cell_type": "code",
   "execution_count": 116,
   "id": "marine-figure",
   "metadata": {
    "execution": {
     "iopub.execute_input": "2021-04-06T18:27:41.252660Z",
     "iopub.status.busy": "2021-04-06T18:27:41.248841Z",
     "iopub.status.idle": "2021-04-06T18:27:41.408930Z",
     "shell.execute_reply": "2021-04-06T18:27:41.408384Z"
    },
    "papermill": {
     "duration": 0.25548,
     "end_time": "2021-04-06T18:27:41.409088",
     "exception": false,
     "start_time": "2021-04-06T18:27:41.153608",
     "status": "completed"
    },
    "tags": []
   },
   "outputs": [
    {
     "data": {
      "text/plain": [
       "<AxesSubplot:xlabel='difficulty'>"
      ]
     },
     "execution_count": 116,
     "metadata": {},
     "output_type": "execute_result"
    },
    {
     "data": {
      "image/png": "[encoded data removed]",
      "text/plain": [
       "<Figure size 432x288 with 1 Axes>"
      ]
     },
     "metadata": {},
     "output_type": "display_data"
    }
   ],
   "source": [
    "sns.boxplot(data=pf,x='difficulty')"
   ]
  },
  {
   "cell_type": "markdown",
   "id": "780c17b5",
   "metadata": {},
   "source": [
    "There are some tasks with extreme difficulty of 20"
   ]
  },
  {
   "cell_type": "code",
   "execution_count": 117,
   "id": "mathematical-ethics",
   "metadata": {
    "execution": {
     "iopub.execute_input": "2021-04-06T18:27:41.604144Z",
     "iopub.status.busy": "2021-04-06T18:27:41.591063Z",
     "iopub.status.idle": "2021-04-06T18:27:41.903231Z",
     "shell.execute_reply": "2021-04-06T18:27:41.903752Z"
    },
    "papermill": {
     "duration": 0.419813,
     "end_time": "2021-04-06T18:27:41.903931",
     "exception": false,
     "start_time": "2021-04-06T18:27:41.484118",
     "status": "completed"
    },
    "tags": []
   },
   "outputs": [
    {
     "data": {
      "image/png": "[encoded data removed]",
      "text/plain": [
       "<Figure size 360x360 with 1 Axes>"
      ]
     },
     "metadata": {},
     "output_type": "display_data"
    }
   ],
   "source": [
    "sns.displot(pf, x=\"difficulty\", kind=\"kde\")\n",
    "plt.title('Density plot of difficulty')\n",
    "plt.show()"
   ]
  },
  {
   "cell_type": "code",
   "execution_count": 118,
   "id": "collect-vacation",
   "metadata": {
    "execution": {
     "iopub.execute_input": "2021-04-06T18:27:42.097743Z",
     "iopub.status.busy": "2021-04-06T18:27:42.096880Z",
     "iopub.status.idle": "2021-04-06T18:27:42.423004Z",
     "shell.execute_reply": "2021-04-06T18:27:42.422437Z"
    },
    "papermill": {
     "duration": 0.441936,
     "end_time": "2021-04-06T18:27:42.423170",
     "exception": false,
     "start_time": "2021-04-06T18:27:41.981234",
     "status": "completed"
    },
    "tags": []
   },
   "outputs": [
    {
     "data": {
      "image/png": "[encoded data removed]",
      "text/plain": [
       "<Figure size 360x360 with 1 Axes>"
      ]
     },
     "metadata": {},
     "output_type": "display_data"
    }
   ],
   "source": [
    "\n",
    "sns.set_theme(style=\"darkgrid\")\n",
    "sns.displot(pf, x=\"duration\", kind=\"kde\")\n",
    "plt.title('plot of duration of the offers')\n",
    "plt.show()"
   ]
  },
  {
   "cell_type": "code",
   "execution_count": 119,
   "id": "fresh-telephone",
   "metadata": {
    "execution": {
     "iopub.execute_input": "2021-04-06T18:27:42.593668Z",
     "iopub.status.busy": "2021-04-06T18:27:42.592800Z",
     "iopub.status.idle": "2021-04-06T18:27:42.597234Z",
     "shell.execute_reply": "2021-04-06T18:27:42.597701Z"
    },
    "papermill": {
     "duration": 0.096596,
     "end_time": "2021-04-06T18:27:42.597882",
     "exception": false,
     "start_time": "2021-04-06T18:27:42.501286",
     "status": "completed"
    },
    "tags": []
   },
   "outputs": [
    {
     "data": {
      "text/html": [
       "<div>\n",
       "<style scoped>\n",
       "    .dataframe tbody tr th:only-of-type {\n",
       "        vertical-align: middle;\n",
       "    }\n",
       "\n",
       "    .dataframe tbody tr th {\n",
       "        vertical-align: top;\n",
       "    }\n",
       "\n",
       "    .dataframe thead th {\n",
       "        text-align: right;\n",
       "    }\n",
       "</style>\n",
       "<table border=\"1\" class=\"dataframe\">\n",
       "  <thead>\n",
       "    <tr style=\"text-align: right;\">\n",
       "      <th></th>\n",
       "      <th>reward</th>\n",
       "      <th>channels</th>\n",
       "      <th>difficulty</th>\n",
       "      <th>duration</th>\n",
       "      <th>offer_type</th>\n",
       "      <th>id</th>\n",
       "    </tr>\n",
       "  </thead>\n",
       "  <tbody>\n",
       "    <tr>\n",
       "      <th>0</th>\n",
       "      <td>10</td>\n",
       "      <td>['email', 'mobile', 'social']</td>\n",
       "      <td>10</td>\n",
       "      <td>7</td>\n",
       "      <td>bogo</td>\n",
       "      <td>ae264e3637204a6fb9bb56bc8210ddfd</td>\n",
       "    </tr>\n",
       "    <tr>\n",
       "      <th>1</th>\n",
       "      <td>10</td>\n",
       "      <td>['web', 'email', 'mobile', 'social']</td>\n",
       "      <td>10</td>\n",
       "      <td>5</td>\n",
       "      <td>bogo</td>\n",
       "      <td>4d5c57ea9a6940dd891ad53e9dbe8da0</td>\n",
       "    </tr>\n",
       "    <tr>\n",
       "      <th>2</th>\n",
       "      <td>0</td>\n",
       "      <td>['web', 'email', 'mobile']</td>\n",
       "      <td>0</td>\n",
       "      <td>4</td>\n",
       "      <td>informational</td>\n",
       "      <td>3f207df678b143eea3cee63160fa8bed</td>\n",
       "    </tr>\n",
       "    <tr>\n",
       "      <th>3</th>\n",
       "      <td>5</td>\n",
       "      <td>['web', 'email', 'mobile']</td>\n",
       "      <td>5</td>\n",
       "      <td>7</td>\n",
       "      <td>bogo</td>\n",
       "      <td>9b98b8c7a33c4b65b9aebfe6a799e6d9</td>\n",
       "    </tr>\n",
       "    <tr>\n",
       "      <th>4</th>\n",
       "      <td>5</td>\n",
       "      <td>['web', 'email']</td>\n",
       "      <td>20</td>\n",
       "      <td>10</td>\n",
       "      <td>discount</td>\n",
       "      <td>0b1e1539f2cc45b7b9fa7c272da2e1d7</td>\n",
       "    </tr>\n",
       "  </tbody>\n",
       "</table>\n",
       "</div>"
      ],
      "text/plain": [
       "   reward                              channels  difficulty  duration  \\\n",
       "0      10         ['email', 'mobile', 'social']          10         7   \n",
       "1      10  ['web', 'email', 'mobile', 'social']          10         5   \n",
       "2       0            ['web', 'email', 'mobile']           0         4   \n",
       "3       5            ['web', 'email', 'mobile']           5         7   \n",
       "4       5                      ['web', 'email']          20        10   \n",
       "\n",
       "      offer_type                                id  \n",
       "0           bogo  ae264e3637204a6fb9bb56bc8210ddfd  \n",
       "1           bogo  4d5c57ea9a6940dd891ad53e9dbe8da0  \n",
       "2  informational  3f207df678b143eea3cee63160fa8bed  \n",
       "3           bogo  9b98b8c7a33c4b65b9aebfe6a799e6d9  \n",
       "4       discount  0b1e1539f2cc45b7b9fa7c272da2e1d7  "
      ]
     },
     "execution_count": 119,
     "metadata": {},
     "output_type": "execute_result"
    }
   ],
   "source": [
    "pf.head()"
   ]
  },
  {
   "cell_type": "markdown",
   "id": "responsible-tractor",
   "metadata": {
    "papermill": {
     "duration": 0.078082,
     "end_time": "2021-04-06T18:27:43.085074",
     "exception": false,
     "start_time": "2021-04-06T18:27:43.006992",
     "status": "completed"
    },
    "tags": []
   },
   "source": [
    "# EDA:  Transcript Data"
   ]
  },
  {
   "cell_type": "code",
   "execution_count": 120,
   "id": "thick-arnold",
   "metadata": {
    "execution": {
     "iopub.execute_input": "2021-04-06T18:27:43.244929Z",
     "iopub.status.busy": "2021-04-06T18:27:43.243916Z",
     "iopub.status.idle": "2021-04-06T18:27:43.270901Z",
     "shell.execute_reply": "2021-04-06T18:27:43.270322Z"
    },
    "papermill": {
     "duration": 0.107459,
     "end_time": "2021-04-06T18:27:43.271055",
     "exception": false,
     "start_time": "2021-04-06T18:27:43.163596",
     "status": "completed"
    },
    "tags": []
   },
   "outputs": [
    {
     "data": {
      "text/html": [
       "<div>\n",
       "<style scoped>\n",
       "    .dataframe tbody tr th:only-of-type {\n",
       "        vertical-align: middle;\n",
       "    }\n",
       "\n",
       "    .dataframe tbody tr th {\n",
       "        vertical-align: top;\n",
       "    }\n",
       "\n",
       "    .dataframe thead th {\n",
       "        text-align: right;\n",
       "    }\n",
       "</style>\n",
       "<table border=\"1\" class=\"dataframe\">\n",
       "  <thead>\n",
       "    <tr style=\"text-align: right;\">\n",
       "      <th></th>\n",
       "      <th>person</th>\n",
       "      <th>event</th>\n",
       "      <th>value</th>\n",
       "      <th>time</th>\n",
       "    </tr>\n",
       "  </thead>\n",
       "  <tbody>\n",
       "    <tr>\n",
       "      <th>0</th>\n",
       "      <td>78afa995795e4d85b5d9ceeca43f5fef</td>\n",
       "      <td>offer received</td>\n",
       "      <td>{'offer id': '9b98b8c7a33c4b65b9aebfe6a799e6d9'}</td>\n",
       "      <td>0</td>\n",
       "    </tr>\n",
       "    <tr>\n",
       "      <th>1</th>\n",
       "      <td>a03223e636434f42ac4c3df47e8bac43</td>\n",
       "      <td>offer received</td>\n",
       "      <td>{'offer id': '0b1e1539f2cc45b7b9fa7c272da2e1d7'}</td>\n",
       "      <td>0</td>\n",
       "    </tr>\n",
       "    <tr>\n",
       "      <th>2</th>\n",
       "      <td>e2127556f4f64592b11af22de27a7932</td>\n",
       "      <td>offer received</td>\n",
       "      <td>{'offer id': '2906b810c7d4411798c6938adc9daaa5'}</td>\n",
       "      <td>0</td>\n",
       "    </tr>\n",
       "    <tr>\n",
       "      <th>3</th>\n",
       "      <td>8ec6ce2a7e7949b1bf142def7d0e0586</td>\n",
       "      <td>offer received</td>\n",
       "      <td>{'offer id': 'fafdcd668e3743c1bb461111dcafc2a4'}</td>\n",
       "      <td>0</td>\n",
       "    </tr>\n",
       "    <tr>\n",
       "      <th>4</th>\n",
       "      <td>68617ca6246f4fbc85e91a2a49552598</td>\n",
       "      <td>offer received</td>\n",
       "      <td>{'offer id': '4d5c57ea9a6940dd891ad53e9dbe8da0'}</td>\n",
       "      <td>0</td>\n",
       "    </tr>\n",
       "  </tbody>\n",
       "</table>\n",
       "</div>"
      ],
      "text/plain": [
       "                             person           event  \\\n",
       "0  78afa995795e4d85b5d9ceeca43f5fef  offer received   \n",
       "1  a03223e636434f42ac4c3df47e8bac43  offer received   \n",
       "2  e2127556f4f64592b11af22de27a7932  offer received   \n",
       "3  8ec6ce2a7e7949b1bf142def7d0e0586  offer received   \n",
       "4  68617ca6246f4fbc85e91a2a49552598  offer received   \n",
       "\n",
       "                                              value  time  \n",
       "0  {'offer id': '9b98b8c7a33c4b65b9aebfe6a799e6d9'}     0  \n",
       "1  {'offer id': '0b1e1539f2cc45b7b9fa7c272da2e1d7'}     0  \n",
       "2  {'offer id': '2906b810c7d4411798c6938adc9daaa5'}     0  \n",
       "3  {'offer id': 'fafdcd668e3743c1bb461111dcafc2a4'}     0  \n",
       "4  {'offer id': '4d5c57ea9a6940dd891ad53e9dbe8da0'}     0  "
      ]
     },
     "execution_count": 120,
     "metadata": {},
     "output_type": "execute_result"
    }
   ],
   "source": [
    "df = ts.copy()\n",
    "ts.head()"
   ]
  },
  {
   "cell_type": "markdown",
   "id": "shaped-windows",
   "metadata": {
    "papermill": {
     "duration": 0.078695,
     "end_time": "2021-04-06T18:27:43.428779",
     "exception": false,
     "start_time": "2021-04-06T18:27:43.350084",
     "status": "completed"
    },
    "tags": []
   },
   "source": [
    "# No missing values in Transcript data"
   ]
  },
  {
   "cell_type": "code",
   "execution_count": 121,
   "id": "thermal-communication",
   "metadata": {
    "execution": {
     "iopub.execute_input": "2021-04-06T18:27:43.638303Z",
     "iopub.status.busy": "2021-04-06T18:27:43.637610Z",
     "iopub.status.idle": "2021-04-06T18:27:43.647235Z",
     "shell.execute_reply": "2021-04-06T18:27:43.646625Z"
    },
    "papermill": {
     "duration": 0.139606,
     "end_time": "2021-04-06T18:27:43.647383",
     "exception": false,
     "start_time": "2021-04-06T18:27:43.507777",
     "status": "completed"
    },
    "tags": []
   },
   "outputs": [
    {
     "data": {
      "text/plain": [
       "person    0\n",
       "event     0\n",
       "value     0\n",
       "time      0\n",
       "dtype: int64"
      ]
     },
     "execution_count": 121,
     "metadata": {},
     "output_type": "execute_result"
    }
   ],
   "source": [
    "df.isnull().sum()"
   ]
  },
  {
   "cell_type": "code",
   "execution_count": 122,
   "id": "forty-sudan",
   "metadata": {
    "execution": {
     "iopub.execute_input": "2021-04-06T18:27:43.817975Z",
     "iopub.status.busy": "2021-04-06T18:27:43.817310Z",
     "iopub.status.idle": "2021-04-06T18:27:43.822089Z",
     "shell.execute_reply": "2021-04-06T18:27:43.822543Z"
    },
    "papermill": {
     "duration": 0.096052,
     "end_time": "2021-04-06T18:27:43.822739",
     "exception": false,
     "start_time": "2021-04-06T18:27:43.726687",
     "status": "completed"
    },
    "tags": []
   },
   "outputs": [
    {
     "data": {
      "text/html": [
       "<div>\n",
       "<style scoped>\n",
       "    .dataframe tbody tr th:only-of-type {\n",
       "        vertical-align: middle;\n",
       "    }\n",
       "\n",
       "    .dataframe tbody tr th {\n",
       "        vertical-align: top;\n",
       "    }\n",
       "\n",
       "    .dataframe thead th {\n",
       "        text-align: right;\n",
       "    }\n",
       "</style>\n",
       "<table border=\"1\" class=\"dataframe\">\n",
       "  <thead>\n",
       "    <tr style=\"text-align: right;\">\n",
       "      <th></th>\n",
       "      <th>person</th>\n",
       "      <th>event</th>\n",
       "      <th>value</th>\n",
       "      <th>time</th>\n",
       "    </tr>\n",
       "  </thead>\n",
       "  <tbody>\n",
       "    <tr>\n",
       "      <th>0</th>\n",
       "      <td>78afa995795e4d85b5d9ceeca43f5fef</td>\n",
       "      <td>offer received</td>\n",
       "      <td>{'offer id': '9b98b8c7a33c4b65b9aebfe6a799e6d9'}</td>\n",
       "      <td>0</td>\n",
       "    </tr>\n",
       "    <tr>\n",
       "      <th>1</th>\n",
       "      <td>a03223e636434f42ac4c3df47e8bac43</td>\n",
       "      <td>offer received</td>\n",
       "      <td>{'offer id': '0b1e1539f2cc45b7b9fa7c272da2e1d7'}</td>\n",
       "      <td>0</td>\n",
       "    </tr>\n",
       "    <tr>\n",
       "      <th>2</th>\n",
       "      <td>e2127556f4f64592b11af22de27a7932</td>\n",
       "      <td>offer received</td>\n",
       "      <td>{'offer id': '2906b810c7d4411798c6938adc9daaa5'}</td>\n",
       "      <td>0</td>\n",
       "    </tr>\n",
       "    <tr>\n",
       "      <th>3</th>\n",
       "      <td>8ec6ce2a7e7949b1bf142def7d0e0586</td>\n",
       "      <td>offer received</td>\n",
       "      <td>{'offer id': 'fafdcd668e3743c1bb461111dcafc2a4'}</td>\n",
       "      <td>0</td>\n",
       "    </tr>\n",
       "    <tr>\n",
       "      <th>4</th>\n",
       "      <td>68617ca6246f4fbc85e91a2a49552598</td>\n",
       "      <td>offer received</td>\n",
       "      <td>{'offer id': '4d5c57ea9a6940dd891ad53e9dbe8da0'}</td>\n",
       "      <td>0</td>\n",
       "    </tr>\n",
       "  </tbody>\n",
       "</table>\n",
       "</div>"
      ],
      "text/plain": [
       "                             person           event  \\\n",
       "0  78afa995795e4d85b5d9ceeca43f5fef  offer received   \n",
       "1  a03223e636434f42ac4c3df47e8bac43  offer received   \n",
       "2  e2127556f4f64592b11af22de27a7932  offer received   \n",
       "3  8ec6ce2a7e7949b1bf142def7d0e0586  offer received   \n",
       "4  68617ca6246f4fbc85e91a2a49552598  offer received   \n",
       "\n",
       "                                              value  time  \n",
       "0  {'offer id': '9b98b8c7a33c4b65b9aebfe6a799e6d9'}     0  \n",
       "1  {'offer id': '0b1e1539f2cc45b7b9fa7c272da2e1d7'}     0  \n",
       "2  {'offer id': '2906b810c7d4411798c6938adc9daaa5'}     0  \n",
       "3  {'offer id': 'fafdcd668e3743c1bb461111dcafc2a4'}     0  \n",
       "4  {'offer id': '4d5c57ea9a6940dd891ad53e9dbe8da0'}     0  "
      ]
     },
     "execution_count": 122,
     "metadata": {},
     "output_type": "execute_result"
    }
   ],
   "source": [
    "df.head()"
   ]
  },
  {
   "cell_type": "code",
   "execution_count": 123,
   "id": "serious-cause",
   "metadata": {
    "execution": {
     "iopub.execute_input": "2021-04-06T18:27:44.016346Z",
     "iopub.status.busy": "2021-04-06T18:27:44.013952Z",
     "iopub.status.idle": "2021-04-06T18:27:44.020432Z",
     "shell.execute_reply": "2021-04-06T18:27:44.019233Z"
    },
    "papermill": {
     "duration": 0.120013,
     "end_time": "2021-04-06T18:27:44.020591",
     "exception": false,
     "start_time": "2021-04-06T18:27:43.900578",
     "status": "completed"
    },
    "tags": []
   },
   "outputs": [],
   "source": [
    "offer_status = df.event.value_counts().reset_index()"
   ]
  },
  {
   "cell_type": "code",
   "execution_count": 124,
   "id": "considerable-clerk",
   "metadata": {
    "execution": {
     "iopub.execute_input": "2021-04-06T18:27:44.188837Z",
     "iopub.status.busy": "2021-04-06T18:27:44.187841Z",
     "iopub.status.idle": "2021-04-06T18:27:44.192922Z",
     "shell.execute_reply": "2021-04-06T18:27:44.192416Z"
    },
    "papermill": {
     "duration": 0.092714,
     "end_time": "2021-04-06T18:27:44.193069",
     "exception": false,
     "start_time": "2021-04-06T18:27:44.100355",
     "status": "completed"
    },
    "tags": []
   },
   "outputs": [
    {
     "data": {
      "text/html": [
       "<div>\n",
       "<style scoped>\n",
       "    .dataframe tbody tr th:only-of-type {\n",
       "        vertical-align: middle;\n",
       "    }\n",
       "\n",
       "    .dataframe tbody tr th {\n",
       "        vertical-align: top;\n",
       "    }\n",
       "\n",
       "    .dataframe thead th {\n",
       "        text-align: right;\n",
       "    }\n",
       "</style>\n",
       "<table border=\"1\" class=\"dataframe\">\n",
       "  <thead>\n",
       "    <tr style=\"text-align: right;\">\n",
       "      <th></th>\n",
       "      <th>Event</th>\n",
       "      <th>Number of offers in that event</th>\n",
       "    </tr>\n",
       "  </thead>\n",
       "  <tbody>\n",
       "    <tr>\n",
       "      <th>0</th>\n",
       "      <td>transaction</td>\n",
       "      <td>138953</td>\n",
       "    </tr>\n",
       "    <tr>\n",
       "      <th>1</th>\n",
       "      <td>offer received</td>\n",
       "      <td>76277</td>\n",
       "    </tr>\n",
       "    <tr>\n",
       "      <th>2</th>\n",
       "      <td>offer viewed</td>\n",
       "      <td>57725</td>\n",
       "    </tr>\n",
       "    <tr>\n",
       "      <th>3</th>\n",
       "      <td>offer completed</td>\n",
       "      <td>33579</td>\n",
       "    </tr>\n",
       "  </tbody>\n",
       "</table>\n",
       "</div>"
      ],
      "text/plain": [
       "             Event  Number of offers in that event\n",
       "0      transaction                          138953\n",
       "1   offer received                           76277\n",
       "2     offer viewed                           57725\n",
       "3  offer completed                           33579"
      ]
     },
     "execution_count": 124,
     "metadata": {},
     "output_type": "execute_result"
    }
   ],
   "source": [
    "offer_status.columns=['Event', 'Number of offers in that event']\n",
    "offer_status"
   ]
  },
  {
   "cell_type": "code",
   "execution_count": 125,
   "id": "nominated-matter",
   "metadata": {
    "execution": {
     "iopub.execute_input": "2021-04-06T18:27:44.383483Z",
     "iopub.status.busy": "2021-04-06T18:27:44.382752Z",
     "iopub.status.idle": "2021-04-06T18:27:44.390119Z",
     "shell.execute_reply": "2021-04-06T18:27:44.390650Z"
    },
    "papermill": {
     "duration": 0.118439,
     "end_time": "2021-04-06T18:27:44.390828",
     "exception": false,
     "start_time": "2021-04-06T18:27:44.272389",
     "status": "completed"
    },
    "tags": []
   },
   "outputs": [
    {
     "data": {
      "text/plain": [
       "transaction        0.453304\n",
       "offer received     0.248837\n",
       "offer viewed       0.188315\n",
       "offer completed    0.109544\n",
       "Name: event, dtype: float64"
      ]
     },
     "execution_count": 125,
     "metadata": {},
     "output_type": "execute_result"
    }
   ],
   "source": [
    "# PErcentages of Ofeer distribution\n",
    "df.event.value_counts(normalize=True)"
   ]
  },
  {
   "cell_type": "code",
   "execution_count": 126,
   "id": "medium-porter",
   "metadata": {
    "execution": {
     "iopub.execute_input": "2021-04-06T18:27:44.566951Z",
     "iopub.status.busy": "2021-04-06T18:27:44.566244Z",
     "iopub.status.idle": "2021-04-06T18:27:44.571307Z",
     "shell.execute_reply": "2021-04-06T18:27:44.570779Z"
    },
    "papermill": {
     "duration": 0.100353,
     "end_time": "2021-04-06T18:27:44.571453",
     "exception": false,
     "start_time": "2021-04-06T18:27:44.471100",
     "status": "completed"
    },
    "tags": []
   },
   "outputs": [
    {
     "data": {
      "application/vnd.plotly.v1+json": {
       "config": {
        "plotlyServerURL": "https://plot.ly"
       },
       "data": [
        {
         "marker": {
          "color": "darkturquoise"
         },
         "type": "bar",
         "x": [
          "transaction",
          "offer received",
          "offer viewed",
          "offer completed"
         ],
         "y": [
          138953,
          76277,
          57725,
          33579
         ]
        }
       ],
       "layout": {
        "template": {
         "data": {
          "bar": [
           {
            "error_x": {
             "color": "#2a3f5f"
            },
            "error_y": {
             "color": "#2a3f5f"
            },
            "marker": {
             "line": {
              "color": "#E5ECF6",
              "width": 0.5
             },
             "pattern": {
              "fillmode": "overlay",
              "size": 10,
              "solidity": 0.2
             }
            },
            "type": "bar"
           }
          ],
          "barpolar": [
           {
            "marker": {
             "line": {
              "color": "#E5ECF6",
              "width": 0.5
             },
             "pattern": {
              "fillmode": "overlay",
              "size": 10,
              "solidity": 0.2
             }
            },
            "type": "barpolar"
           }
          ],
          "carpet": [
           {
            "aaxis": {
             "endlinecolor": "#2a3f5f",
             "gridcolor": "white",
             "linecolor": "white",
             "minorgridcolor": "white",
             "startlinecolor": "#2a3f5f"
            },
            "baxis": {
             "endlinecolor": "#2a3f5f",
             "gridcolor": "white",
             "linecolor": "white",
             "minorgridcolor": "white",
             "startlinecolor": "#2a3f5f"
            },
            "type": "carpet"
           }
          ],
          "choropleth": [
           {
            "colorbar": {
             "outlinewidth": 0,
             "ticks": ""
            },
            "type": "choropleth"
           }
          ],
          "contour": [
           {
            "colorbar": {
             "outlinewidth": 0,
             "ticks": ""
            },
            "colorscale": [
             [
              0,
              "#0d0887"
             ],
             [
              0.1111111111111111,
              "#46039f"
             ],
             [
              0.2222222222222222,
              "#7201a8"
             ],
             [
              0.3333333333333333,
              "#9c179e"
             ],
             [
              0.4444444444444444,
              "#bd3786"
             ],
             [
              0.5555555555555556,
              "#d8576b"
             ],
             [
              0.6666666666666666,
              "#ed7953"
             ],
             [
              0.7777777777777778,
              "#fb9f3a"
             ],
             [
              0.8888888888888888,
              "#fdca26"
             ],
             [
              1,
              "#f0f921"
             ]
            ],
            "type": "contour"
           }
          ],
          "contourcarpet": [
           {
            "colorbar": {
             "outlinewidth": 0,
             "ticks": ""
            },
            "type": "contourcarpet"
           }
          ],
          "heatmap": [
           {
            "colorbar": {
             "outlinewidth": 0,
             "ticks": ""
            },
            "colorscale": [
             [
              0,
              "#0d0887"
             ],
             [
              0.1111111111111111,
              "#46039f"
             ],
             [
              0.2222222222222222,
              "#7201a8"
             ],
             [
              0.3333333333333333,
              "#9c179e"
             ],
             [
              0.4444444444444444,
              "#bd3786"
             ],
             [
              0.5555555555555556,
              "#d8576b"
             ],
             [
              0.6666666666666666,
              "#ed7953"
             ],
             [
              0.7777777777777778,
              "#fb9f3a"
             ],
             [
              0.8888888888888888,
              "#fdca26"
             ],
             [
              1,
              "#f0f921"
             ]
            ],
            "type": "heatmap"
           }
          ],
          "heatmapgl": [
           {
            "colorbar": {
             "outlinewidth": 0,
             "ticks": ""
            },
            "colorscale": [
             [
              0,
              "#0d0887"
             ],
             [
              0.1111111111111111,
              "#46039f"
             ],
             [
              0.2222222222222222,
              "#7201a8"
             ],
             [
              0.3333333333333333,
              "#9c179e"
             ],
             [
              0.4444444444444444,
              "#bd3786"
             ],
             [
              0.5555555555555556,
              "#d8576b"
             ],
             [
              0.6666666666666666,
              "#ed7953"
             ],
             [
              0.7777777777777778,
              "#fb9f3a"
             ],
             [
              0.8888888888888888,
              "#fdca26"
             ],
             [
              1,
              "#f0f921"
             ]
            ],
            "type": "heatmapgl"
           }
          ],
          "histogram": [
           {
            "marker": {
             "pattern": {
              "fillmode": "overlay",
              "size": 10,
              "solidity": 0.2
             }
            },
            "type": "histogram"
           }
          ],
          "histogram2d": [
           {
            "colorbar": {
             "outlinewidth": 0,
             "ticks": ""
            },
            "colorscale": [
             [
              0,
              "#0d0887"
             ],
             [
              0.1111111111111111,
              "#46039f"
             ],
             [
              0.2222222222222222,
              "#7201a8"
             ],
             [
              0.3333333333333333,
              "#9c179e"
             ],
             [
              0.4444444444444444,
              "#bd3786"
             ],
             [
              0.5555555555555556,
              "#d8576b"
             ],
             [
              0.6666666666666666,
              "#ed7953"
             ],
             [
              0.7777777777777778,
              "#fb9f3a"
             ],
             [
              0.8888888888888888,
              "#fdca26"
             ],
             [
              1,
              "#f0f921"
             ]
            ],
            "type": "histogram2d"
           }
          ],
          "histogram2dcontour": [
           {
            "colorbar": {
             "outlinewidth": 0,
             "ticks": ""
            },
            "colorscale": [
             [
              0,
              "#0d0887"
             ],
             [
              0.1111111111111111,
              "#46039f"
             ],
             [
              0.2222222222222222,
              "#7201a8"
             ],
             [
              0.3333333333333333,
              "#9c179e"
             ],
             [
              0.4444444444444444,
              "#bd3786"
             ],
             [
              0.5555555555555556,
              "#d8576b"
             ],
             [
              0.6666666666666666,
              "#ed7953"
             ],
             [
              0.7777777777777778,
              "#fb9f3a"
             ],
             [
              0.8888888888888888,
              "#fdca26"
             ],
             [
              1,
              "#f0f921"
             ]
            ],
            "type": "histogram2dcontour"
           }
          ],
          "mesh3d": [
           {
            "colorbar": {
             "outlinewidth": 0,
             "ticks": ""
            },
            "type": "mesh3d"
           }
          ],
          "parcoords": [
           {
            "line": {
             "colorbar": {
              "outlinewidth": 0,
              "ticks": ""
             }
            },
            "type": "parcoords"
           }
          ],
          "pie": [
           {
            "automargin": true,
            "type": "pie"
           }
          ],
          "scatter": [
           {
            "marker": {
             "colorbar": {
              "outlinewidth": 0,
              "ticks": ""
             }
            },
            "type": "scatter"
           }
          ],
          "scatter3d": [
           {
            "line": {
             "colorbar": {
              "outlinewidth": 0,
              "ticks": ""
             }
            },
            "marker": {
             "colorbar": {
              "outlinewidth": 0,
              "ticks": ""
             }
            },
            "type": "scatter3d"
           }
          ],
          "scattercarpet": [
           {
            "marker": {
             "colorbar": {
              "outlinewidth": 0,
              "ticks": ""
             }
            },
            "type": "scattercarpet"
           }
          ],
          "scattergeo": [
           {
            "marker": {
             "colorbar": {
              "outlinewidth": 0,
              "ticks": ""
             }
            },
            "type": "scattergeo"
           }
          ],
          "scattergl": [
           {
            "marker": {
             "colorbar": {
              "outlinewidth": 0,
              "ticks": ""
             }
            },
            "type": "scattergl"
           }
          ],
          "scattermapbox": [
           {
            "marker": {
             "colorbar": {
              "outlinewidth": 0,
              "ticks": ""
             }
            },
            "type": "scattermapbox"
           }
          ],
          "scatterpolar": [
           {
            "marker": {
             "colorbar": {
              "outlinewidth": 0,
              "ticks": ""
             }
            },
            "type": "scatterpolar"
           }
          ],
          "scatterpolargl": [
           {
            "marker": {
             "colorbar": {
              "outlinewidth": 0,
              "ticks": ""
             }
            },
            "type": "scatterpolargl"
           }
          ],
          "scatterternary": [
           {
            "marker": {
             "colorbar": {
              "outlinewidth": 0,
              "ticks": ""
             }
            },
            "type": "scatterternary"
           }
          ],
          "surface": [
           {
            "colorbar": {
             "outlinewidth": 0,
             "ticks": ""
            },
            "colorscale": [
             [
              0,
              "#0d0887"
             ],
             [
              0.1111111111111111,
              "#46039f"
             ],
             [
              0.2222222222222222,
              "#7201a8"
             ],
             [
              0.3333333333333333,
              "#9c179e"
             ],
             [
              0.4444444444444444,
              "#bd3786"
             ],
             [
              0.5555555555555556,
              "#d8576b"
             ],
             [
              0.6666666666666666,
              "#ed7953"
             ],
             [
              0.7777777777777778,
              "#fb9f3a"
             ],
             [
              0.8888888888888888,
              "#fdca26"
             ],
             [
              1,
              "#f0f921"
             ]
            ],
            "type": "surface"
           }
          ],
          "table": [
           {
            "cells": {
             "fill": {
              "color": "#EBF0F8"
             },
             "line": {
              "color": "white"
             }
            },
            "header": {
             "fill": {
              "color": "#C8D4E3"
             },
             "line": {
              "color": "white"
             }
            },
            "type": "table"
           }
          ]
         },
         "layout": {
          "annotationdefaults": {
           "arrowcolor": "#2a3f5f",
           "arrowhead": 0,
           "arrowwidth": 1
          },
          "autotypenumbers": "strict",
          "coloraxis": {
           "colorbar": {
            "outlinewidth": 0,
            "ticks": ""
           }
          },
          "colorscale": {
           "diverging": [
            [
             0,
             "#8e0152"
            ],
            [
             0.1,
             "#c51b7d"
            ],
            [
             0.2,
             "#de77ae"
            ],
            [
             0.3,
             "#f1b6da"
            ],
            [
             0.4,
             "#fde0ef"
            ],
            [
             0.5,
             "#f7f7f7"
            ],
            [
             0.6,
             "#e6f5d0"
            ],
            [
             0.7,
             "#b8e186"
            ],
            [
             0.8,
             "#7fbc41"
            ],
            [
             0.9,
             "#4d9221"
            ],
            [
             1,
             "#276419"
            ]
           ],
           "sequential": [
            [
             0,
             "#0d0887"
            ],
            [
             0.1111111111111111,
             "#46039f"
            ],
            [
             0.2222222222222222,
             "#7201a8"
            ],
            [
             0.3333333333333333,
             "#9c179e"
            ],
            [
             0.4444444444444444,
             "#bd3786"
            ],
            [
             0.5555555555555556,
             "#d8576b"
            ],
            [
             0.6666666666666666,
             "#ed7953"
            ],
            [
             0.7777777777777778,
             "#fb9f3a"
            ],
            [
             0.8888888888888888,
             "#fdca26"
            ],
            [
             1,
             "#f0f921"
            ]
           ],
           "sequentialminus": [
            [
             0,
             "#0d0887"
            ],
            [
             0.1111111111111111,
             "#46039f"
            ],
            [
             0.2222222222222222,
             "#7201a8"
            ],
            [
             0.3333333333333333,
             "#9c179e"
            ],
            [
             0.4444444444444444,
             "#bd3786"
            ],
            [
             0.5555555555555556,
             "#d8576b"
            ],
            [
             0.6666666666666666,
             "#ed7953"
            ],
            [
             0.7777777777777778,
             "#fb9f3a"
            ],
            [
             0.8888888888888888,
             "#fdca26"
            ],
            [
             1,
             "#f0f921"
            ]
           ]
          },
          "colorway": [
           "#636efa",
           "#EF553B",
           "#00cc96",
           "#ab63fa",
           "#FFA15A",
           "#19d3f3",
           "#FF6692",
           "#B6E880",
           "#FF97FF",
           "#FECB52"
          ],
          "font": {
           "color": "#2a3f5f"
          },
          "geo": {
           "bgcolor": "white",
           "lakecolor": "white",
           "landcolor": "#E5ECF6",
           "showlakes": true,
           "showland": true,
           "subunitcolor": "white"
          },
          "hoverlabel": {
           "align": "left"
          },
          "hovermode": "closest",
          "mapbox": {
           "style": "light"
          },
          "paper_bgcolor": "white",
          "plot_bgcolor": "#E5ECF6",
          "polar": {
           "angularaxis": {
            "gridcolor": "white",
            "linecolor": "white",
            "ticks": ""
           },
           "bgcolor": "#E5ECF6",
           "radialaxis": {
            "gridcolor": "white",
            "linecolor": "white",
            "ticks": ""
           }
          },
          "scene": {
           "xaxis": {
            "backgroundcolor": "#E5ECF6",
            "gridcolor": "white",
            "gridwidth": 2,
            "linecolor": "white",
            "showbackground": true,
            "ticks": "",
            "zerolinecolor": "white"
           },
           "yaxis": {
            "backgroundcolor": "#E5ECF6",
            "gridcolor": "white",
            "gridwidth": 2,
            "linecolor": "white",
            "showbackground": true,
            "ticks": "",
            "zerolinecolor": "white"
           },
           "zaxis": {
            "backgroundcolor": "#E5ECF6",
            "gridcolor": "white",
            "gridwidth": 2,
            "linecolor": "white",
            "showbackground": true,
            "ticks": "",
            "zerolinecolor": "white"
           }
          },
          "shapedefaults": {
           "line": {
            "color": "#2a3f5f"
           }
          },
          "ternary": {
           "aaxis": {
            "gridcolor": "white",
            "linecolor": "white",
            "ticks": ""
           },
           "baxis": {
            "gridcolor": "white",
            "linecolor": "white",
            "ticks": ""
           },
           "bgcolor": "#E5ECF6",
           "caxis": {
            "gridcolor": "white",
            "linecolor": "white",
            "ticks": ""
           }
          },
          "title": {
           "x": 0.05
          },
          "xaxis": {
           "automargin": true,
           "gridcolor": "white",
           "linecolor": "white",
           "ticks": "",
           "title": {
            "standoff": 15
           },
           "zerolinecolor": "white",
           "zerolinewidth": 2
          },
          "yaxis": {
           "automargin": true,
           "gridcolor": "white",
           "linecolor": "white",
           "ticks": "",
           "title": {
            "standoff": 15
           },
           "zerolinecolor": "white",
           "zerolinewidth": 2
          }
         }
        },
        "title": {
         "text": "Number of offers versus their status",
         "x": 0.4
        }
       }
      }
     },
     "metadata": {},
     "output_type": "display_data"
    }
   ],
   "source": [
    "val = offer_status['Event']\n",
    "cnt = offer_status['Number of offers in that event']\n",
    "\n",
    "fig = go.Figure([go.Bar(x=val, y=cnt, marker_color='darkturquoise')])\n",
    "fig.update_layout(title_text='Number of offers versus their status', title_x=0.4)\n",
    "fig.show()"
   ]
  },
  {
   "cell_type": "markdown",
   "id": "later-format",
   "metadata": {
    "papermill": {
     "duration": 0.081388,
     "end_time": "2021-04-06T18:27:44.733952",
     "exception": false,
     "start_time": "2021-04-06T18:27:44.652564",
     "status": "completed"
    },
    "tags": []
   },
   "source": [
    "While 45% of the offers are still in transaction, only 11% offers are completed by the customers"
   ]
  },
  {
   "cell_type": "markdown",
   "id": "adjusted-resident",
   "metadata": {
    "papermill": {
     "duration": 0.08289,
     "end_time": "2021-04-06T18:27:44.898344",
     "exception": false,
     "start_time": "2021-04-06T18:27:44.815454",
     "status": "completed"
    },
    "tags": []
   },
   "source": [
    "# Binning time intervals"
   ]
  },
  {
   "cell_type": "code",
   "execution_count": 127,
   "id": "educational-houston",
   "metadata": {
    "execution": {
     "iopub.execute_input": "2021-04-06T18:27:45.067774Z",
     "iopub.status.busy": "2021-04-06T18:27:45.066708Z",
     "iopub.status.idle": "2021-04-06T18:27:45.075123Z",
     "shell.execute_reply": "2021-04-06T18:27:45.075633Z"
    },
    "papermill": {
     "duration": 0.096188,
     "end_time": "2021-04-06T18:27:45.075820",
     "exception": false,
     "start_time": "2021-04-06T18:27:44.979632",
     "status": "completed"
    },
    "tags": []
   },
   "outputs": [
    {
     "data": {
      "text/plain": [
       "array([  0,   6,  12,  18,  24,  30,  36,  42,  48,  54,  60,  66,  72,\n",
       "        78,  84,  90,  96, 102, 108, 114, 120, 126, 132, 138, 144, 150,\n",
       "       156, 162, 168, 174, 180, 186, 192, 198, 204, 210, 216, 222, 228,\n",
       "       234, 240, 246, 252, 258, 264, 270, 276, 282, 288, 294, 300, 306,\n",
       "       312, 318, 324, 330, 336, 342, 348, 354, 360, 366, 372, 378, 384,\n",
       "       390, 396, 402, 408, 414, 420, 426, 432, 438, 444, 450, 456, 462,\n",
       "       468, 474, 480, 486, 492, 498, 504, 510, 516, 522, 528, 534, 540,\n",
       "       546, 552, 558, 564, 570, 576, 582, 588, 594, 600, 606, 612, 618,\n",
       "       624, 630, 636, 642, 648, 654, 660, 666, 672, 678, 684, 690, 696,\n",
       "       702, 708, 714], dtype=int64)"
      ]
     },
     "execution_count": 127,
     "metadata": {},
     "output_type": "execute_result"
    }
   ],
   "source": [
    "df.time.unique()"
   ]
  },
  {
   "cell_type": "code",
   "execution_count": 128,
   "id": "pursuant-strain",
   "metadata": {
    "execution": {
     "iopub.execute_input": "2021-04-06T18:27:45.244820Z",
     "iopub.status.busy": "2021-04-06T18:27:45.244195Z",
     "iopub.status.idle": "2021-04-06T18:27:45.259113Z",
     "shell.execute_reply": "2021-04-06T18:27:45.258554Z"
    },
    "papermill": {
     "duration": 0.10124,
     "end_time": "2021-04-06T18:27:45.259276",
     "exception": false,
     "start_time": "2021-04-06T18:27:45.158036",
     "status": "completed"
    },
    "tags": []
   },
   "outputs": [],
   "source": [
    "df['time_group'] = pd.cut(x=df['time'], bins=[0, 100, 200, 300, 400, 500,600,700,800], include_lowest=True,\n",
    "                    labels=['0-100 days', '100-200 days', '200-300 days', '300-400 days', '400-500 days', '500-600 days', '600-700 days', '700-800 days'])"
   ]
  },
  {
   "cell_type": "code",
   "execution_count": 129,
   "id": "superb-storm",
   "metadata": {
    "execution": {
     "iopub.execute_input": "2021-04-06T18:27:45.423713Z",
     "iopub.status.busy": "2021-04-06T18:27:45.423105Z",
     "iopub.status.idle": "2021-04-06T18:27:45.634705Z",
     "shell.execute_reply": "2021-04-06T18:27:45.635353Z"
    },
    "papermill": {
     "duration": 0.295693,
     "end_time": "2021-04-06T18:27:45.635556",
     "exception": false,
     "start_time": "2021-04-06T18:27:45.339863",
     "status": "completed"
    },
    "tags": []
   },
   "outputs": [
    {
     "data": {
      "text/plain": [
       "Text(0.5, 1.0, 'No. of offers in the Timespan')"
      ]
     },
     "execution_count": 129,
     "metadata": {},
     "output_type": "execute_result"
    },
    {
     "data": {
      "image/png": "[encoded data removed]",
      "text/plain": [
       "<Figure size 864x504 with 1 Axes>"
      ]
     },
     "metadata": {},
     "output_type": "display_data"
    }
   ],
   "source": [
    "fig = plt.figure(figsize = (12,7))\n",
    "sns.countplot(x='time_group',data=df)\n",
    "plt.xticks(rotation=30)\n",
    "plt.title('No. of offers in the Timespan')"
   ]
  },
  {
   "cell_type": "code",
   "execution_count": 130,
   "id": "portuguese-timer",
   "metadata": {
    "execution": {
     "iopub.execute_input": "2021-04-06T18:27:45.836490Z",
     "iopub.status.busy": "2021-04-06T18:27:45.835774Z",
     "iopub.status.idle": "2021-04-06T18:27:45.930918Z",
     "shell.execute_reply": "2021-04-06T18:27:45.931857Z"
    },
    "papermill": {
     "duration": 0.209829,
     "end_time": "2021-04-06T18:27:45.932124",
     "exception": false,
     "start_time": "2021-04-06T18:27:45.722295",
     "status": "completed"
    },
    "tags": []
   },
   "outputs": [
    {
     "data": {
      "text/plain": [
       "94de646f7b6041228ca7dec82adb97d2    51\n",
       "8dbfa485249f409aa223a2130f40634a    49\n",
       "79d9d4f86aca4bed9290350fb43817c2    48\n",
       "5e60c6aa3b834e44b822ea43a3efea26    48\n",
       "d0a80415b84c4df4908b8403b19765e3    48\n",
       "                                    ..\n",
       "3045af4e98794a04a5542d3eac939b1f     2\n",
       "7ecfc592171f4844bdc05bdbb48d3847     2\n",
       "df9fc9a86ca84ef5aedde8925d5838ba     2\n",
       "1bfe13d2453c4185a6486c6817e0d568     2\n",
       "da7a7c0dcfcb41a8acc7864a53cf60fb     1\n",
       "Name: person, Length: 17000, dtype: int64"
      ]
     },
     "execution_count": 130,
     "metadata": {},
     "output_type": "execute_result"
    }
   ],
   "source": [
    "df.person.value_counts() "
   ]
  },
  {
   "cell_type": "code",
   "execution_count": 131,
   "id": "global-experience",
   "metadata": {
    "execution": {
     "iopub.execute_input": "2021-04-06T18:27:46.128275Z",
     "iopub.status.busy": "2021-04-06T18:27:46.126048Z",
     "iopub.status.idle": "2021-04-06T18:27:46.151636Z",
     "shell.execute_reply": "2021-04-06T18:27:46.151105Z"
    },
    "papermill": {
     "duration": 0.132336,
     "end_time": "2021-04-06T18:27:46.151780",
     "exception": false,
     "start_time": "2021-04-06T18:27:46.019444",
     "status": "completed"
    },
    "tags": []
   },
   "outputs": [
    {
     "data": {
      "text/plain": [
       "76277"
      ]
     },
     "execution_count": 131,
     "metadata": {},
     "output_type": "execute_result"
    }
   ],
   "source": [
    "offers_received_df = df[df.event == 'offer received']\n",
    "len(offers_received_df)"
   ]
  },
  {
   "cell_type": "markdown",
   "id": "de4a1e7d",
   "metadata": {},
   "source": [
    "A total of 76277 offers have been received by the customers"
   ]
  },
  {
   "cell_type": "markdown",
   "id": "fixed-integer",
   "metadata": {
    "papermill": {
     "duration": 0.084347,
     "end_time": "2021-04-06T18:27:46.320718",
     "exception": false,
     "start_time": "2021-04-06T18:27:46.236371",
     "status": "completed"
    },
    "tags": []
   },
   "source": [
    "*All persons who have received offer may not accept*"
   ]
  },
  {
   "cell_type": "code",
   "execution_count": 132,
   "id": "african-blind",
   "metadata": {
    "execution": {
     "iopub.execute_input": "2021-04-06T18:27:46.566896Z",
     "iopub.status.busy": "2021-04-06T18:27:46.565812Z",
     "iopub.status.idle": "2021-04-06T18:27:46.588917Z",
     "shell.execute_reply": "2021-04-06T18:27:46.589537Z"
    },
    "papermill": {
     "duration": 0.185283,
     "end_time": "2021-04-06T18:27:46.589730",
     "exception": false,
     "start_time": "2021-04-06T18:27:46.404447",
     "status": "completed"
    },
    "tags": []
   },
   "outputs": [
    {
     "data": {
      "text/plain": [
       "57725"
      ]
     },
     "execution_count": 132,
     "metadata": {},
     "output_type": "execute_result"
    }
   ],
   "source": [
    "offers_viewed_df = df[df.event == 'offer viewed']\n",
    "len(offers_viewed_df)"
   ]
  },
  {
   "cell_type": "code",
   "execution_count": 133,
   "id": "transparent-butterfly",
   "metadata": {
    "execution": {
     "iopub.execute_input": "2021-04-06T18:27:46.783704Z",
     "iopub.status.busy": "2021-04-06T18:27:46.782974Z",
     "iopub.status.idle": "2021-04-06T18:27:46.806067Z",
     "shell.execute_reply": "2021-04-06T18:27:46.806569Z"
    },
    "papermill": {
     "duration": 0.130662,
     "end_time": "2021-04-06T18:27:46.806766",
     "exception": false,
     "start_time": "2021-04-06T18:27:46.676104",
     "status": "completed"
    },
    "tags": []
   },
   "outputs": [
    {
     "data": {
      "text/plain": [
       "33579"
      ]
     },
     "execution_count": 133,
     "metadata": {},
     "output_type": "execute_result"
    }
   ],
   "source": [
    "offers_completed_df = df[df.event == 'offer completed']\n",
    "len(offers_completed_df)"
   ]
  },
  {
   "cell_type": "code",
   "execution_count": 134,
   "id": "600b8b4c",
   "metadata": {},
   "outputs": [
    {
     "name": "stdout",
     "output_type": "stream",
     "text": [
      "offer_viewed_percentage : 75.67812053436815\n",
      "offer_completed_percentage : 44.02244451145168\n"
     ]
    }
   ],
   "source": [
    "offer_completed_percentage=len(offers_completed_df)/len(offers_received_df)*100\n",
    "offer_viewed_percentage=len(offers_viewed_df)/len(offers_received_df)*100\n",
    "print(\"offer_viewed_percentage :\", offer_viewed_percentage)\n",
    "print(\"offer_completed_percentage :\", offer_completed_percentage)"
   ]
  },
  {
   "cell_type": "markdown",
   "id": "504fb35b",
   "metadata": {},
   "source": [
    "Out of 76227 offers received by all customers in total , only 57725 (75.67%) were viewed and only  33575 (44.02%) were completed"
   ]
  }
 ],
 "metadata": {
  "kernelspec": {
   "display_name": "Python 3.9.7 64-bit",
   "language": "python",
   "name": "python3"
  },
  "language_info": {
   "codemirror_mode": {
    "name": "ipython",
    "version": 3
   },
   "file_extension": ".py",
   "mimetype": "text/x-python",
   "name": "python",
   "nbconvert_exporter": "python",
   "pygments_lexer": "ipython3",
   "version": "3.9.7"
  },
  "papermill": {
   "default_parameters": {},
   "duration": 44.865615,
   "end_time": "2021-04-06T18:27:49.128667",
   "environment_variables": {},
   "exception": null,
   "input_path": "__notebook__.ipynb",
   "output_path": "__notebook__.ipynb",
   "parameters": {},
   "start_time": "2021-04-06T18:27:04.263052",
   "version": "2.3.2"
  },
  "vscode": {
   "interpreter": {
    "hash": "862b3ffde4c263836bd533b4d769ca9f6a228d352b8f0229ce9e28aac7defa64"
   }
  }
 },
 "nbformat": 4,
 "nbformat_minor": 5
}
